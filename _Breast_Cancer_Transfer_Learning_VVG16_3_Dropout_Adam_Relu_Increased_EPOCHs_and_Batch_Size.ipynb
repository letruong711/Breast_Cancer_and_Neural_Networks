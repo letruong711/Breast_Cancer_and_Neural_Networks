{
  "cells": [
    {
      "cell_type": "markdown",
      "metadata": {
        "id": "view-in-github",
        "colab_type": "text"
      },
      "source": [
        "<a href=\"https://colab.research.google.com/github/letruong711/Breast_Cancer_and_Neural_Networks/blob/main/_Breast_Cancer_Transfer_Learning_VVG16_3_Dropout_Adam_Relu_Increased_EPOCHs_and_Batch_Size.ipynb\" target=\"_parent\"><img src=\"https://colab.research.google.com/assets/colab-badge.svg\" alt=\"Open In Colab\"/></a>"
      ]
    },
    {
      "cell_type": "markdown",
      "metadata": {
        "id": "5x4fWUwz9Euo"
      },
      "source": [
        "##**Mounting Google Drive.**"
      ]
    },
    {
      "cell_type": "code",
      "execution_count": null,
      "metadata": {
        "colab": {
          "base_uri": "https://localhost:8080/"
        },
        "id": "5AwwhHGQ3lGI",
        "outputId": "45f5037c-0ab3-4c5f-db3d-527b609fa80f"
      },
      "outputs": [
        {
          "output_type": "stream",
          "name": "stdout",
          "text": [
            "Mounted at /content/drive\n"
          ]
        }
      ],
      "source": [
        "#mount google drive\n",
        "from google.colab import drive\n",
        "drive.mount('/content/drive')"
      ]
    },
    {
      "cell_type": "markdown",
      "metadata": {
        "id": "G666LaWxbSzu"
      },
      "source": [
        "#**Importing Libraries.**#"
      ]
    },
    {
      "cell_type": "code",
      "execution_count": null,
      "metadata": {
        "id": "1DuMmBpz2-hl"
      },
      "outputs": [],
      "source": [
        "import pandas as pd\n",
        "import numpy as np\n",
        "import matplotlib.pyplot as plt\n",
        "%matplotlib inline\n",
        "import seaborn as sns\n",
        "\n",
        "import os\n",
        "import glob\n",
        "import random\n",
        "\n",
        "import keras\n",
        "\n",
        "from keras.models import Sequential\n",
        "from keras.layers import Dense\n",
        "from keras.datasets import mnist\n",
        "\n",
        "from keras.models import load_model\n",
        "from keras.wrappers.scikit_learn import KerasClassifier\n",
        "\n",
        "from sklearn.preprocessing import LabelEncoder\n",
        "from sklearn.model_selection import train_test_split\n",
        "from sklearn.model_selection import GridSearchCV\n",
        "from sklearn.metrics import classification_report\n",
        "from sklearn.metrics import confusion_matrix\n",
        "from sklearn.metrics import plot_confusion_matrix, classification_report\n",
        "\n",
        "import tensorflow as tf\n",
        "from tensorflow.keras import layers\n",
        "from tensorflow.keras import Sequential\n",
        "from tensorflow.keras.applications.vgg19 import VGG19, preprocess_input\n",
        "from tensorflow.keras.layers import Dense, Conv2D, Flatten, Dropout, MaxPool2D\n",
        "from tensorflow.keras.preprocessing.image import ImageDataGenerator, array_to_img, img_to_array, load_img\n",
        "from tensorflow.keras.callbacks import EarlyStopping\n",
        "from tensorflow.keras import optimizers\n",
        "import tensorflow_datasets as tfds\n",
        "\n",
        "import datetime"
      ]
    },
    {
      "cell_type": "markdown",
      "metadata": {
        "id": "8sAo6Yrybepr"
      },
      "source": [
        "#**Importing Data/Establishing Pathways.**"
      ]
    },
    {
      "cell_type": "code",
      "execution_count": null,
      "metadata": {
        "id": "NP_eH-TifYHY"
      },
      "outputs": [],
      "source": [
        "#setting up bridge between collab and drive\n",
        "!pip install -U -q PyDrive\n",
        "from pydrive.auth import GoogleAuth\n",
        "from pydrive.drive import GoogleDrive\n",
        "from google.colab import auth\n",
        "from oauth2client.client import GoogleCredentials"
      ]
    },
    {
      "cell_type": "code",
      "execution_count": null,
      "metadata": {
        "id": "CrsQghh0oEHd"
      },
      "outputs": [],
      "source": [
        "auth.authenticate_user()\n",
        "gauth = GoogleAuth()\n",
        "gauth.credentials = GoogleCredentials.get_application_default()\n",
        "drive = GoogleDrive(gauth)"
      ]
    },
    {
      "cell_type": "code",
      "execution_count": null,
      "metadata": {
        "id": "lu_F4k2ipBGp"
      },
      "outputs": [],
      "source": [
        "fid = drive.ListFile({'q': \"title='updated_kaggle_breast.zip'\"}).GetList()[0]['id']\n",
        "f = drive.CreateFile({'id':fid})\n",
        "f.GetContentFile('updated_kaggle_breast.zip')"
      ]
    },
    {
      "cell_type": "code",
      "execution_count": null,
      "metadata": {
        "id": "ZxC7SKtNPtzR"
      },
      "outputs": [],
      "source": [
        "#unzip massive file.\n",
        "!unzip updated_kaggle_breast.zip"
      ]
    },
    {
      "cell_type": "code",
      "execution_count": null,
      "metadata": {
        "id": "HiViKDCz81mW"
      },
      "outputs": [],
      "source": [
        "PATH = '/content/updated_kaggle_breast/IDC_regular_ps50_idx5'"
      ]
    },
    {
      "cell_type": "code",
      "execution_count": null,
      "metadata": {
        "id": "dTv0XoxcOZ_c"
      },
      "outputs": [],
      "source": [
        "os.listdir(PATH)"
      ]
    },
    {
      "cell_type": "code",
      "execution_count": null,
      "metadata": {
        "id": "N4B0v8UbFt5Y"
      },
      "outputs": [],
      "source": [
        "train_dir = os.path.join(PATH, 'Train')\n",
        "test_dir = os.path.join(PATH, 'Test')"
      ]
    },
    {
      "cell_type": "markdown",
      "metadata": {
        "id": "pn7IsdOjb5YH"
      },
      "source": [
        "##Preprocessing.##"
      ]
    },
    {
      "cell_type": "code",
      "execution_count": null,
      "metadata": {
        "id": "zdhFSyeZbncj"
      },
      "outputs": [],
      "source": [
        "IMG_HEIGHT = 224\n",
        "IMG_WIDTH = 224\n",
        "batch_size = 624"
      ]
    },
    {
      "cell_type": "code",
      "execution_count": null,
      "metadata": {
        "id": "sbN8zqGW9JSN"
      },
      "outputs": [],
      "source": [
        "image_gen = ImageDataGenerator(rescale = 1./255)"
      ]
    },
    {
      "cell_type": "code",
      "execution_count": null,
      "metadata": {
        "colab": {
          "base_uri": "https://localhost:8080/"
        },
        "id": "flZ8avQVcsgh",
        "outputId": "db4d7416-ff20-44d8-8486-fad365ab6370"
      },
      "outputs": [
        {
          "output_type": "stream",
          "name": "stdout",
          "text": [
            "Found 20467 images belonging to 2 classes.\n"
          ]
        }
      ],
      "source": [
        "train_data_gen = image_gen.flow_from_directory(\n",
        "    directory=train_dir,\n",
        "    shuffle=True,\n",
        "    target_size=(IMG_HEIGHT, IMG_WIDTH),\n",
        "    batch_size= 5216,\n",
        "    class_mode='binary')"
      ]
    },
    {
      "cell_type": "code",
      "execution_count": null,
      "metadata": {
        "colab": {
          "base_uri": "https://localhost:8080/"
        },
        "id": "zJ1_46BUc80D",
        "outputId": "5ee3b677-02a6-401a-ebff-1303aae3593a"
      },
      "outputs": [
        {
          "output_type": "stream",
          "name": "stdout",
          "text": [
            "Found 6600 images belonging to 2 classes.\n"
          ]
        }
      ],
      "source": [
        "test_data_gen = image_gen.flow_from_directory(\n",
        "    directory = test_dir,\n",
        "    target_size = (IMG_HEIGHT, IMG_WIDTH),\n",
        "    batch_size = batch_size,\n",
        "    class_mode='binary')"
      ]
    },
    {
      "cell_type": "code",
      "execution_count": null,
      "metadata": {
        "id": "YzDxS2j5dC3_"
      },
      "outputs": [],
      "source": [
        "cnn_train_images, cnn_train_labels = next(train_data_gen)\n",
        "cnn_test_images, cnn_test_labels = next(test_data_gen)"
      ]
    },
    {
      "cell_type": "code",
      "execution_count": null,
      "metadata": {
        "colab": {
          "base_uri": "https://localhost:8080/",
          "height": 164
        },
        "id": "-lxjuDUZdFGn",
        "outputId": "61735c90-0ba5-457b-aed1-350457dd0372"
      },
      "outputs": [
        {
          "output_type": "display_data",
          "data": {
            "text/plain": [
              "(5216, 224, 224, 3)"
            ]
          },
          "metadata": {}
        },
        {
          "output_type": "display_data",
          "data": {
            "text/plain": [
              "(5216,)"
            ]
          },
          "metadata": {}
        },
        {
          "output_type": "display_data",
          "data": {
            "text/plain": [
              "numpy.ndarray"
            ]
          },
          "metadata": {}
        },
        {
          "output_type": "display_data",
          "data": {
            "text/plain": [
              "numpy.ndarray"
            ]
          },
          "metadata": {}
        },
        {
          "output_type": "display_data",
          "data": {
            "text/plain": [
              "(624, 224, 224, 3)"
            ]
          },
          "metadata": {}
        },
        {
          "output_type": "display_data",
          "data": {
            "text/plain": [
              "(624,)"
            ]
          },
          "metadata": {}
        },
        {
          "output_type": "display_data",
          "data": {
            "text/plain": [
              "numpy.ndarray"
            ]
          },
          "metadata": {}
        },
        {
          "output_type": "display_data",
          "data": {
            "text/plain": [
              "numpy.ndarray"
            ]
          },
          "metadata": {}
        }
      ],
      "source": [
        "#making sure dimensions are correct for CNN\n",
        "display(np.shape(cnn_train_images))\n",
        "display(np.shape(cnn_train_labels))\n",
        "display(type(cnn_train_images))\n",
        "display(type(cnn_train_labels))\n",
        "\n",
        "display(np.shape(cnn_test_images))\n",
        "display(np.shape(cnn_test_labels))\n",
        "display(type(cnn_test_images))\n",
        "display(type(cnn_test_labels))"
      ]
    },
    {
      "cell_type": "markdown",
      "metadata": {
        "id": "vkx5kEddexs-"
      },
      "source": [
        "#**Setting up VGG16.**"
      ]
    },
    {
      "cell_type": "code",
      "execution_count": null,
      "metadata": {
        "id": "gBbt8rFSE74b"
      },
      "outputs": [],
      "source": [
        "from keras.applications.vgg16 import VGG16"
      ]
    },
    {
      "cell_type": "code",
      "execution_count": null,
      "metadata": {
        "id": "d7Rhbpd5e0fO",
        "colab": {
          "base_uri": "https://localhost:8080/"
        },
        "outputId": "19a8cd27-3a5d-4d06-f0f2-3bb320ea21cc"
      },
      "outputs": [
        {
          "output_type": "stream",
          "name": "stdout",
          "text": [
            "Downloading data from https://storage.googleapis.com/tensorflow/keras-applications/vgg16/vgg16_weights_tf_dim_ordering_tf_kernels_notop.h5\n",
            "58892288/58889256 [==============================] - 1s 0us/step\n",
            "58900480/58889256 [==============================] - 1s 0us/step\n"
          ]
        }
      ],
      "source": [
        "pretrained = VGG16(weights = 'imagenet', \n",
        "                   include_top = False, \n",
        "                   input_shape = (224, 224, 3),\n",
        "                   pooling = 'avg')"
      ]
    },
    {
      "cell_type": "code",
      "execution_count": null,
      "metadata": {
        "colab": {
          "base_uri": "https://localhost:8080/"
        },
        "id": "9CRC-uQSgvYF",
        "outputId": "49ce2620-df7b-4042-c578-61ac086f48f5"
      },
      "outputs": [
        {
          "output_type": "stream",
          "name": "stdout",
          "text": [
            "Model: \"vgg16\"\n",
            "_________________________________________________________________\n",
            " Layer (type)                Output Shape              Param #   \n",
            "=================================================================\n",
            " input_1 (InputLayer)        [(None, 224, 224, 3)]     0         \n",
            "                                                                 \n",
            " block1_conv1 (Conv2D)       (None, 224, 224, 64)      1792      \n",
            "                                                                 \n",
            " block1_conv2 (Conv2D)       (None, 224, 224, 64)      36928     \n",
            "                                                                 \n",
            " block1_pool (MaxPooling2D)  (None, 112, 112, 64)      0         \n",
            "                                                                 \n",
            " block2_conv1 (Conv2D)       (None, 112, 112, 128)     73856     \n",
            "                                                                 \n",
            " block2_conv2 (Conv2D)       (None, 112, 112, 128)     147584    \n",
            "                                                                 \n",
            " block2_pool (MaxPooling2D)  (None, 56, 56, 128)       0         \n",
            "                                                                 \n",
            " block3_conv1 (Conv2D)       (None, 56, 56, 256)       295168    \n",
            "                                                                 \n",
            " block3_conv2 (Conv2D)       (None, 56, 56, 256)       590080    \n",
            "                                                                 \n",
            " block3_conv3 (Conv2D)       (None, 56, 56, 256)       590080    \n",
            "                                                                 \n",
            " block3_pool (MaxPooling2D)  (None, 28, 28, 256)       0         \n",
            "                                                                 \n",
            " block4_conv1 (Conv2D)       (None, 28, 28, 512)       1180160   \n",
            "                                                                 \n",
            " block4_conv2 (Conv2D)       (None, 28, 28, 512)       2359808   \n",
            "                                                                 \n",
            " block4_conv3 (Conv2D)       (None, 28, 28, 512)       2359808   \n",
            "                                                                 \n",
            " block4_pool (MaxPooling2D)  (None, 14, 14, 512)       0         \n",
            "                                                                 \n",
            " block5_conv1 (Conv2D)       (None, 14, 14, 512)       2359808   \n",
            "                                                                 \n",
            " block5_conv2 (Conv2D)       (None, 14, 14, 512)       2359808   \n",
            "                                                                 \n",
            " block5_conv3 (Conv2D)       (None, 14, 14, 512)       2359808   \n",
            "                                                                 \n",
            " block5_pool (MaxPooling2D)  (None, 7, 7, 512)         0         \n",
            "                                                                 \n",
            " global_average_pooling2d (G  (None, 512)              0         \n",
            " lobalAveragePooling2D)                                          \n",
            "                                                                 \n",
            "=================================================================\n",
            "Total params: 14,714,688\n",
            "Trainable params: 14,714,688\n",
            "Non-trainable params: 0\n",
            "_________________________________________________________________\n"
          ]
        }
      ],
      "source": [
        "pretrained.summary()"
      ]
    },
    {
      "cell_type": "code",
      "execution_count": null,
      "metadata": {
        "id": "douPBuYFg1cl"
      },
      "outputs": [],
      "source": [
        "#defining CNN\n",
        "pretrained_cnn = Sequential()\n",
        "pretrained_cnn.add(pretrained)\n",
        "\n",
        "# freezing layers so they don't get retrained with your new data\n",
        "for layer in pretrained_cnn.layers:\n",
        "    layer.trainable = False "
      ]
    },
    {
      "cell_type": "code",
      "execution_count": null,
      "metadata": {
        "id": "C91Q5q8A66YV"
      },
      "outputs": [],
      "source": [
        "# Adding our own dense layers to customize model to our goals\n",
        "\n",
        "pretrained_cnn.add(layers.Flatten())\n",
        "\n",
        "pretrained_cnn.add(layers.Dropout(rate = 0.3))\n",
        "pretrained_cnn.add(layers.Dense(192, activation = 'relu'))\n",
        "\n",
        "pretrained_cnn.add(layers.Dropout(rate = 0.3))\n",
        "pretrained_cnn.add(layers.Dense(256, activation = 'relu'))\n",
        "\n",
        "\n",
        "pretrained_cnn.add(layers.Dense(1, activation = 'sigmoid'))"
      ]
    },
    {
      "cell_type": "code",
      "execution_count": null,
      "metadata": {
        "colab": {
          "base_uri": "https://localhost:8080/"
        },
        "id": "DVU2pkNGg5nV",
        "outputId": "a6a8e510-e75c-4ae2-fe44-614dc4794387"
      },
      "outputs": [
        {
          "output_type": "stream",
          "name": "stdout",
          "text": [
            "vgg16 False\n",
            "flatten True\n",
            "dropout True\n",
            "dense True\n",
            "dropout_1 True\n",
            "dense_1 True\n",
            "dense_2 True\n"
          ]
        }
      ],
      "source": [
        "# Verifying that the weights are \"frozen\" because we don't want to change the earlier model to help detect patterns.\n",
        "\n",
        "for layer in pretrained_cnn.layers:\n",
        "    print(layer.name, layer.trainable)"
      ]
    },
    {
      "cell_type": "code",
      "execution_count": null,
      "metadata": {
        "id": "XC4O3Iq7kZii"
      },
      "outputs": [],
      "source": [
        "# This will stop training when the monitored metric has stopped improving\n",
        "# This might be more useful when fine tuning a model\n",
        "\n",
        "early_stopping = EarlyStopping(patience = 80,               \n",
        "                               monitor = 'val_binary_accuracy', \n",
        "                               restore_best_weights = True) \n",
        "\n",
        "# Patience = After 30 epochs with no improvement, training will be stopped\n",
        "# Monitor = Binary Accuracy is the quantity being monitored for the patience level\n",
        "# Restoring model weights from the epoch with the best value of the monitored quantity"
      ]
    },
    {
      "cell_type": "code",
      "execution_count": null,
      "metadata": {
        "id": "ntfolV0khDzd"
      },
      "outputs": [],
      "source": [
        "#compile the model\n",
        "pretrained_cnn.compile(loss = 'binary_crossentropy', \n",
        "            optimizer = 'Adam', \n",
        "            metrics = ['binary_accuracy'])"
      ]
    },
    {
      "cell_type": "code",
      "execution_count": null,
      "metadata": {
        "colab": {
          "base_uri": "https://localhost:8080/"
        },
        "id": "t5V1hQ68hWm8",
        "outputId": "0aefa10e-658e-439d-c623-f6987c0ed449"
      },
      "outputs": [
        {
          "output_type": "stream",
          "name": "stdout",
          "text": [
            "Model: \"sequential\"\n",
            "_________________________________________________________________\n",
            " Layer (type)                Output Shape              Param #   \n",
            "=================================================================\n",
            " vgg16 (Functional)          (None, 512)               14714688  \n",
            "                                                                 \n",
            " flatten (Flatten)           (None, 512)               0         \n",
            "                                                                 \n",
            " dropout (Dropout)           (None, 512)               0         \n",
            "                                                                 \n",
            " dense (Dense)               (None, 192)               98496     \n",
            "                                                                 \n",
            " dropout_1 (Dropout)         (None, 192)               0         \n",
            "                                                                 \n",
            " dense_1 (Dense)             (None, 256)               49408     \n",
            "                                                                 \n",
            " dense_2 (Dense)             (None, 1)                 257       \n",
            "                                                                 \n",
            "=================================================================\n",
            "Total params: 14,862,849\n",
            "Trainable params: 148,161\n",
            "Non-trainable params: 14,714,688\n",
            "_________________________________________________________________\n"
          ]
        }
      ],
      "source": [
        "#reviewing the model\n",
        "pretrained_cnn.summary()"
      ]
    },
    {
      "cell_type": "markdown",
      "metadata": {
        "id": "MY1n_H2-7TBY"
      },
      "source": [
        "##**VGG16 CNN.**"
      ]
    },
    {
      "cell_type": "code",
      "execution_count": null,
      "metadata": {
        "colab": {
          "base_uri": "https://localhost:8080/"
        },
        "id": "2sljiNzx7PBz",
        "outputId": "cfa9d565-1c01-41a0-96c0-8e26948914b2"
      },
      "outputs": [
        {
          "output_type": "stream",
          "name": "stdout",
          "text": [
            "Epoch 1/400\n",
            "66/66 [==============================] - 722s 11s/step - loss: 0.6160 - binary_accuracy: 0.6505 - val_loss: 0.3684 - val_binary_accuracy: 0.8606\n",
            "Epoch 2/400\n",
            "66/66 [==============================] - 722s 11s/step - loss: 0.5470 - binary_accuracy: 0.7207 - val_loss: 0.3620 - val_binary_accuracy: 0.8542\n",
            "Epoch 3/400\n",
            "66/66 [==============================] - 719s 11s/step - loss: 0.5308 - binary_accuracy: 0.7450 - val_loss: 0.3610 - val_binary_accuracy: 0.8510\n",
            "Epoch 4/400\n",
            "66/66 [==============================] - 719s 11s/step - loss: 0.5204 - binary_accuracy: 0.7538 - val_loss: 0.3709 - val_binary_accuracy: 0.8446\n",
            "Epoch 5/400\n",
            "66/66 [==============================] - 719s 11s/step - loss: 0.5112 - binary_accuracy: 0.7602 - val_loss: 0.3553 - val_binary_accuracy: 0.8510\n",
            "Epoch 6/400\n",
            "66/66 [==============================] - 719s 11s/step - loss: 0.4938 - binary_accuracy: 0.7625 - val_loss: 0.3570 - val_binary_accuracy: 0.8413\n",
            "Epoch 7/400\n",
            "66/66 [==============================] - 719s 11s/step - loss: 0.4939 - binary_accuracy: 0.7640 - val_loss: 0.3778 - val_binary_accuracy: 0.8462\n",
            "Epoch 8/400\n",
            "66/66 [==============================] - 719s 11s/step - loss: 0.4889 - binary_accuracy: 0.7728 - val_loss: 0.3724 - val_binary_accuracy: 0.8446\n",
            "Epoch 9/400\n",
            "66/66 [==============================] - 719s 11s/step - loss: 0.4870 - binary_accuracy: 0.7713 - val_loss: 0.3855 - val_binary_accuracy: 0.8429\n",
            "Epoch 10/400\n",
            "66/66 [==============================] - 720s 11s/step - loss: 0.4826 - binary_accuracy: 0.7738 - val_loss: 0.3699 - val_binary_accuracy: 0.8429\n",
            "Epoch 11/400\n",
            "66/66 [==============================] - 719s 11s/step - loss: 0.4734 - binary_accuracy: 0.7757 - val_loss: 0.3680 - val_binary_accuracy: 0.8462\n",
            "Epoch 12/400\n",
            "66/66 [==============================] - 719s 11s/step - loss: 0.4679 - binary_accuracy: 0.7803 - val_loss: 0.3864 - val_binary_accuracy: 0.8510\n",
            "Epoch 13/400\n",
            "66/66 [==============================] - 719s 11s/step - loss: 0.4746 - binary_accuracy: 0.7766 - val_loss: 0.3818 - val_binary_accuracy: 0.8446\n",
            "Epoch 14/400\n",
            "66/66 [==============================] - 719s 11s/step - loss: 0.4731 - binary_accuracy: 0.7828 - val_loss: 0.3654 - val_binary_accuracy: 0.8462\n",
            "Epoch 15/400\n",
            "66/66 [==============================] - 719s 11s/step - loss: 0.4604 - binary_accuracy: 0.7843 - val_loss: 0.3831 - val_binary_accuracy: 0.8429\n",
            "Epoch 16/400\n",
            "66/66 [==============================] - 719s 11s/step - loss: 0.4725 - binary_accuracy: 0.7786 - val_loss: 0.3858 - val_binary_accuracy: 0.8478\n",
            "Epoch 17/400\n",
            "66/66 [==============================] - 719s 11s/step - loss: 0.4596 - binary_accuracy: 0.7843 - val_loss: 0.3858 - val_binary_accuracy: 0.8494\n",
            "Epoch 18/400\n",
            "66/66 [==============================] - 719s 11s/step - loss: 0.4593 - binary_accuracy: 0.7826 - val_loss: 0.3699 - val_binary_accuracy: 0.8446\n",
            "Epoch 19/400\n",
            "66/66 [==============================] - 719s 11s/step - loss: 0.4540 - binary_accuracy: 0.7914 - val_loss: 0.3818 - val_binary_accuracy: 0.8413\n",
            "Epoch 20/400\n",
            "66/66 [==============================] - 719s 11s/step - loss: 0.4661 - binary_accuracy: 0.7834 - val_loss: 0.3818 - val_binary_accuracy: 0.8462\n",
            "Epoch 21/400\n",
            "66/66 [==============================] - 719s 11s/step - loss: 0.4547 - binary_accuracy: 0.7868 - val_loss: 0.3873 - val_binary_accuracy: 0.8397\n",
            "Epoch 22/400\n",
            "66/66 [==============================] - 720s 11s/step - loss: 0.4547 - binary_accuracy: 0.7906 - val_loss: 0.3737 - val_binary_accuracy: 0.8526\n",
            "Epoch 23/400\n",
            "66/66 [==============================] - 721s 11s/step - loss: 0.4507 - binary_accuracy: 0.7901 - val_loss: 0.3827 - val_binary_accuracy: 0.8429\n",
            "Epoch 24/400\n",
            "66/66 [==============================] - 721s 11s/step - loss: 0.4573 - binary_accuracy: 0.7901 - val_loss: 0.3878 - val_binary_accuracy: 0.8446\n",
            "Epoch 25/400\n",
            "66/66 [==============================] - 721s 11s/step - loss: 0.4529 - binary_accuracy: 0.7860 - val_loss: 0.3794 - val_binary_accuracy: 0.8526\n",
            "Epoch 26/400\n",
            "66/66 [==============================] - 721s 11s/step - loss: 0.4528 - binary_accuracy: 0.7845 - val_loss: 0.3687 - val_binary_accuracy: 0.8510\n",
            "Epoch 27/400\n",
            "66/66 [==============================] - 719s 11s/step - loss: 0.4507 - binary_accuracy: 0.7868 - val_loss: 0.3686 - val_binary_accuracy: 0.8446\n",
            "Epoch 28/400\n",
            "66/66 [==============================] - 719s 11s/step - loss: 0.4533 - binary_accuracy: 0.7847 - val_loss: 0.3724 - val_binary_accuracy: 0.8494\n",
            "Epoch 29/400\n",
            "66/66 [==============================] - 721s 11s/step - loss: 0.4462 - binary_accuracy: 0.7924 - val_loss: 0.3974 - val_binary_accuracy: 0.8478\n",
            "Epoch 30/400\n",
            "66/66 [==============================] - 722s 11s/step - loss: 0.4501 - binary_accuracy: 0.7933 - val_loss: 0.3845 - val_binary_accuracy: 0.8462\n",
            "Epoch 31/400\n",
            "66/66 [==============================] - 721s 11s/step - loss: 0.4433 - binary_accuracy: 0.7958 - val_loss: 0.3736 - val_binary_accuracy: 0.8526\n",
            "Epoch 32/400\n",
            "66/66 [==============================] - 721s 11s/step - loss: 0.4437 - binary_accuracy: 0.7912 - val_loss: 0.3728 - val_binary_accuracy: 0.8638\n",
            "Epoch 33/400\n",
            "66/66 [==============================] - 721s 11s/step - loss: 0.4385 - binary_accuracy: 0.7914 - val_loss: 0.3965 - val_binary_accuracy: 0.8494\n",
            "Epoch 34/400\n",
            "66/66 [==============================] - 721s 11s/step - loss: 0.4478 - binary_accuracy: 0.7862 - val_loss: 0.3660 - val_binary_accuracy: 0.8590\n",
            "Epoch 35/400\n",
            "66/66 [==============================] - 721s 11s/step - loss: 0.4393 - binary_accuracy: 0.7943 - val_loss: 0.3699 - val_binary_accuracy: 0.8446\n",
            "Epoch 36/400\n",
            "66/66 [==============================] - 721s 11s/step - loss: 0.4412 - binary_accuracy: 0.7937 - val_loss: 0.3751 - val_binary_accuracy: 0.8510\n",
            "Epoch 37/400\n",
            "66/66 [==============================] - 722s 11s/step - loss: 0.4378 - binary_accuracy: 0.7979 - val_loss: 0.3716 - val_binary_accuracy: 0.8494\n",
            "Epoch 38/400\n",
            "66/66 [==============================] - 721s 11s/step - loss: 0.4291 - binary_accuracy: 0.8014 - val_loss: 0.3777 - val_binary_accuracy: 0.8494\n",
            "Epoch 39/400\n",
            "66/66 [==============================] - 721s 11s/step - loss: 0.4294 - binary_accuracy: 0.8010 - val_loss: 0.3824 - val_binary_accuracy: 0.8478\n",
            "Epoch 40/400\n",
            "66/66 [==============================] - 721s 11s/step - loss: 0.4288 - binary_accuracy: 0.7977 - val_loss: 0.3736 - val_binary_accuracy: 0.8478\n",
            "Epoch 41/400\n",
            "66/66 [==============================] - 721s 11s/step - loss: 0.4391 - binary_accuracy: 0.7962 - val_loss: 0.3761 - val_binary_accuracy: 0.8478\n",
            "Epoch 42/400\n",
            "66/66 [==============================] - 721s 11s/step - loss: 0.4360 - binary_accuracy: 0.7974 - val_loss: 0.3761 - val_binary_accuracy: 0.8397\n",
            "Epoch 43/400\n",
            "66/66 [==============================] - 719s 11s/step - loss: 0.4244 - binary_accuracy: 0.8044 - val_loss: 0.3822 - val_binary_accuracy: 0.8478\n",
            "Epoch 44/400\n",
            "66/66 [==============================] - 720s 11s/step - loss: 0.4323 - binary_accuracy: 0.8004 - val_loss: 0.3711 - val_binary_accuracy: 0.8494\n",
            "Epoch 45/400\n",
            "66/66 [==============================] - 721s 11s/step - loss: 0.4280 - binary_accuracy: 0.8044 - val_loss: 0.3775 - val_binary_accuracy: 0.8558\n",
            "Epoch 46/400\n",
            "66/66 [==============================] - 721s 11s/step - loss: 0.4259 - binary_accuracy: 0.8044 - val_loss: 0.3817 - val_binary_accuracy: 0.8429\n",
            "Epoch 47/400\n",
            "66/66 [==============================] - 721s 11s/step - loss: 0.4341 - binary_accuracy: 0.8018 - val_loss: 0.3724 - val_binary_accuracy: 0.8462\n",
            "Epoch 48/400\n",
            "66/66 [==============================] - 721s 11s/step - loss: 0.4284 - binary_accuracy: 0.7987 - val_loss: 0.3783 - val_binary_accuracy: 0.8462\n",
            "Epoch 49/400\n",
            "66/66 [==============================] - 721s 11s/step - loss: 0.4256 - binary_accuracy: 0.8115 - val_loss: 0.3731 - val_binary_accuracy: 0.8510\n",
            "Epoch 50/400\n",
            "66/66 [==============================] - 721s 11s/step - loss: 0.4303 - binary_accuracy: 0.8010 - val_loss: 0.3910 - val_binary_accuracy: 0.8397\n",
            "Epoch 51/400\n",
            "66/66 [==============================] - 721s 11s/step - loss: 0.4233 - binary_accuracy: 0.8023 - val_loss: 0.3738 - val_binary_accuracy: 0.8542\n",
            "Epoch 52/400\n",
            "66/66 [==============================] - 721s 11s/step - loss: 0.4280 - binary_accuracy: 0.8021 - val_loss: 0.3875 - val_binary_accuracy: 0.8558\n",
            "Epoch 53/400\n",
            "66/66 [==============================] - 721s 11s/step - loss: 0.4207 - binary_accuracy: 0.8031 - val_loss: 0.3751 - val_binary_accuracy: 0.8558\n",
            "Epoch 54/400\n",
            "66/66 [==============================] - 721s 11s/step - loss: 0.4234 - binary_accuracy: 0.8002 - val_loss: 0.3988 - val_binary_accuracy: 0.8429\n",
            "Epoch 55/400\n",
            "66/66 [==============================] - 721s 11s/step - loss: 0.4212 - binary_accuracy: 0.8069 - val_loss: 0.3738 - val_binary_accuracy: 0.8446\n",
            "Epoch 56/400\n",
            "66/66 [==============================] - 721s 11s/step - loss: 0.4175 - binary_accuracy: 0.8094 - val_loss: 0.3764 - val_binary_accuracy: 0.8446\n",
            "Epoch 57/400\n",
            "66/66 [==============================] - 722s 11s/step - loss: 0.4226 - binary_accuracy: 0.8044 - val_loss: 0.3918 - val_binary_accuracy: 0.8446\n",
            "Epoch 58/400\n",
            "66/66 [==============================] - 721s 11s/step - loss: 0.4123 - binary_accuracy: 0.8140 - val_loss: 0.3713 - val_binary_accuracy: 0.8462\n",
            "Epoch 59/400\n",
            "66/66 [==============================] - 721s 11s/step - loss: 0.4154 - binary_accuracy: 0.8071 - val_loss: 0.3844 - val_binary_accuracy: 0.8381\n",
            "Epoch 60/400\n",
            "66/66 [==============================] - 722s 11s/step - loss: 0.4136 - binary_accuracy: 0.8085 - val_loss: 0.3669 - val_binary_accuracy: 0.8526\n",
            "Epoch 61/400\n",
            "66/66 [==============================] - 721s 11s/step - loss: 0.4102 - binary_accuracy: 0.8054 - val_loss: 0.3763 - val_binary_accuracy: 0.8429\n",
            "Epoch 62/400\n",
            "66/66 [==============================] - 721s 11s/step - loss: 0.4148 - binary_accuracy: 0.8085 - val_loss: 0.3713 - val_binary_accuracy: 0.8478\n",
            "Epoch 63/400\n",
            "66/66 [==============================] - 722s 11s/step - loss: 0.4145 - binary_accuracy: 0.8056 - val_loss: 0.3821 - val_binary_accuracy: 0.8365\n",
            "Epoch 64/400\n",
            "66/66 [==============================] - 722s 11s/step - loss: 0.4122 - binary_accuracy: 0.8121 - val_loss: 0.3741 - val_binary_accuracy: 0.8478\n",
            "Epoch 65/400\n",
            "66/66 [==============================] - 721s 11s/step - loss: 0.4146 - binary_accuracy: 0.8102 - val_loss: 0.3703 - val_binary_accuracy: 0.8542\n",
            "Epoch 66/400\n",
            "66/66 [==============================] - 721s 11s/step - loss: 0.4088 - binary_accuracy: 0.8146 - val_loss: 0.3787 - val_binary_accuracy: 0.8446\n",
            "Epoch 67/400\n",
            "66/66 [==============================] - 722s 11s/step - loss: 0.4118 - binary_accuracy: 0.8123 - val_loss: 0.3997 - val_binary_accuracy: 0.8301\n",
            "Epoch 68/400\n",
            "66/66 [==============================] - 722s 11s/step - loss: 0.4167 - binary_accuracy: 0.8117 - val_loss: 0.3904 - val_binary_accuracy: 0.8462\n",
            "Epoch 69/400\n",
            "66/66 [==============================] - 721s 11s/step - loss: 0.4075 - binary_accuracy: 0.8119 - val_loss: 0.3953 - val_binary_accuracy: 0.8397\n",
            "Epoch 70/400\n",
            "66/66 [==============================] - 721s 11s/step - loss: 0.4145 - binary_accuracy: 0.8079 - val_loss: 0.3800 - val_binary_accuracy: 0.8429\n",
            "Epoch 71/400\n",
            "66/66 [==============================] - 722s 11s/step - loss: 0.4031 - binary_accuracy: 0.8163 - val_loss: 0.3786 - val_binary_accuracy: 0.8478\n",
            "Epoch 72/400\n",
            "66/66 [==============================] - 721s 11s/step - loss: 0.4153 - binary_accuracy: 0.8144 - val_loss: 0.3746 - val_binary_accuracy: 0.8558\n",
            "Epoch 73/400\n",
            "66/66 [==============================] - 722s 11s/step - loss: 0.4006 - binary_accuracy: 0.8213 - val_loss: 0.3770 - val_binary_accuracy: 0.8446\n",
            "Epoch 74/400\n",
            "66/66 [==============================] - 721s 11s/step - loss: 0.3954 - binary_accuracy: 0.8204 - val_loss: 0.3675 - val_binary_accuracy: 0.8397\n",
            "Epoch 75/400\n",
            "66/66 [==============================] - 722s 11s/step - loss: 0.4059 - binary_accuracy: 0.8104 - val_loss: 0.3741 - val_binary_accuracy: 0.8526\n",
            "Epoch 76/400\n",
            "66/66 [==============================] - 721s 11s/step - loss: 0.4171 - binary_accuracy: 0.8018 - val_loss: 0.3825 - val_binary_accuracy: 0.8413\n",
            "Epoch 77/400\n",
            "66/66 [==============================] - 721s 11s/step - loss: 0.4040 - binary_accuracy: 0.8177 - val_loss: 0.3720 - val_binary_accuracy: 0.8494\n",
            "Epoch 78/400\n",
            "66/66 [==============================] - 721s 11s/step - loss: 0.4014 - binary_accuracy: 0.8173 - val_loss: 0.3713 - val_binary_accuracy: 0.8446\n",
            "Epoch 79/400\n",
            "66/66 [==============================] - 721s 11s/step - loss: 0.4061 - binary_accuracy: 0.8173 - val_loss: 0.3773 - val_binary_accuracy: 0.8478\n",
            "Epoch 80/400\n",
            "66/66 [==============================] - 721s 11s/step - loss: 0.4008 - binary_accuracy: 0.8198 - val_loss: 0.3785 - val_binary_accuracy: 0.8494\n",
            "Epoch 81/400\n",
            "66/66 [==============================] - 719s 11s/step - loss: 0.4034 - binary_accuracy: 0.8154 - val_loss: 0.3726 - val_binary_accuracy: 0.8526\n",
            "Epoch 82/400\n",
            "66/66 [==============================] - 719s 11s/step - loss: 0.3934 - binary_accuracy: 0.8267 - val_loss: 0.3854 - val_binary_accuracy: 0.8301\n",
            "Epoch 83/400\n",
            "66/66 [==============================] - 721s 11s/step - loss: 0.3932 - binary_accuracy: 0.8230 - val_loss: 0.3838 - val_binary_accuracy: 0.8446\n",
            "Epoch 84/400\n",
            "66/66 [==============================] - 723s 11s/step - loss: 0.4052 - binary_accuracy: 0.8177 - val_loss: 0.3732 - val_binary_accuracy: 0.8494\n",
            "Epoch 85/400\n",
            "66/66 [==============================] - 722s 11s/step - loss: 0.3907 - binary_accuracy: 0.8276 - val_loss: 0.3910 - val_binary_accuracy: 0.8462\n",
            "Epoch 86/400\n",
            "66/66 [==============================] - 721s 11s/step - loss: 0.3979 - binary_accuracy: 0.8207 - val_loss: 0.3943 - val_binary_accuracy: 0.8381\n",
            "Epoch 87/400\n",
            "66/66 [==============================] - 721s 11s/step - loss: 0.3931 - binary_accuracy: 0.8215 - val_loss: 0.3719 - val_binary_accuracy: 0.8510\n",
            "Epoch 88/400\n",
            "66/66 [==============================] - 721s 11s/step - loss: 0.4001 - binary_accuracy: 0.8183 - val_loss: 0.3739 - val_binary_accuracy: 0.8494\n",
            "Epoch 89/400\n",
            "66/66 [==============================] - 721s 11s/step - loss: 0.3913 - binary_accuracy: 0.8240 - val_loss: 0.3734 - val_binary_accuracy: 0.8478\n",
            "Epoch 90/400\n",
            "66/66 [==============================] - 722s 11s/step - loss: 0.3855 - binary_accuracy: 0.8263 - val_loss: 0.3959 - val_binary_accuracy: 0.8365\n",
            "Epoch 91/400\n",
            "66/66 [==============================] - 721s 11s/step - loss: 0.3847 - binary_accuracy: 0.8288 - val_loss: 0.3891 - val_binary_accuracy: 0.8446\n",
            "Epoch 92/400\n",
            "66/66 [==============================] - 722s 11s/step - loss: 0.3950 - binary_accuracy: 0.8248 - val_loss: 0.3863 - val_binary_accuracy: 0.8494\n",
            "Epoch 93/400\n",
            "66/66 [==============================] - 722s 11s/step - loss: 0.3953 - binary_accuracy: 0.8196 - val_loss: 0.3764 - val_binary_accuracy: 0.8397\n",
            "Epoch 94/400\n",
            "66/66 [==============================] - 722s 11s/step - loss: 0.3864 - binary_accuracy: 0.8265 - val_loss: 0.3918 - val_binary_accuracy: 0.8381\n",
            "Epoch 95/400\n",
            "66/66 [==============================] - 723s 11s/step - loss: 0.3998 - binary_accuracy: 0.8186 - val_loss: 0.3864 - val_binary_accuracy: 0.8301\n",
            "Epoch 96/400\n",
            "66/66 [==============================] - 720s 11s/step - loss: 0.3857 - binary_accuracy: 0.8255 - val_loss: 0.3841 - val_binary_accuracy: 0.8365\n",
            "Epoch 97/400\n",
            "66/66 [==============================] - 720s 11s/step - loss: 0.3918 - binary_accuracy: 0.8200 - val_loss: 0.3702 - val_binary_accuracy: 0.8397\n",
            "Epoch 98/400\n",
            "66/66 [==============================] - 721s 11s/step - loss: 0.3888 - binary_accuracy: 0.8179 - val_loss: 0.4061 - val_binary_accuracy: 0.8253\n",
            "Epoch 99/400\n",
            "66/66 [==============================] - 723s 11s/step - loss: 0.3981 - binary_accuracy: 0.8211 - val_loss: 0.3861 - val_binary_accuracy: 0.8349\n",
            "Epoch 100/400\n",
            "66/66 [==============================] - 724s 11s/step - loss: 0.3853 - binary_accuracy: 0.8309 - val_loss: 0.3876 - val_binary_accuracy: 0.8413\n",
            "Epoch 101/400\n",
            "66/66 [==============================] - 722s 11s/step - loss: 0.3920 - binary_accuracy: 0.8215 - val_loss: 0.3840 - val_binary_accuracy: 0.8462\n",
            "Epoch 102/400\n",
            "66/66 [==============================] - 723s 11s/step - loss: 0.3885 - binary_accuracy: 0.8221 - val_loss: 0.3754 - val_binary_accuracy: 0.8526\n",
            "Epoch 103/400\n",
            "66/66 [==============================] - 723s 11s/step - loss: 0.3826 - binary_accuracy: 0.8263 - val_loss: 0.3864 - val_binary_accuracy: 0.8333\n",
            "Epoch 104/400\n",
            "66/66 [==============================] - 723s 11s/step - loss: 0.3901 - binary_accuracy: 0.8225 - val_loss: 0.3743 - val_binary_accuracy: 0.8494\n",
            "Epoch 105/400\n",
            "66/66 [==============================] - 722s 11s/step - loss: 0.3957 - binary_accuracy: 0.8221 - val_loss: 0.3895 - val_binary_accuracy: 0.8397\n",
            "Epoch 106/400\n",
            "66/66 [==============================] - 721s 11s/step - loss: 0.3955 - binary_accuracy: 0.8221 - val_loss: 0.4013 - val_binary_accuracy: 0.8381\n",
            "Epoch 107/400\n",
            "66/66 [==============================] - 719s 11s/step - loss: 0.3890 - binary_accuracy: 0.8234 - val_loss: 0.3841 - val_binary_accuracy: 0.8397\n",
            "Epoch 108/400\n",
            "66/66 [==============================] - 721s 11s/step - loss: 0.3871 - binary_accuracy: 0.8255 - val_loss: 0.3810 - val_binary_accuracy: 0.8478\n",
            "Epoch 109/400\n",
            "66/66 [==============================] - 723s 11s/step - loss: 0.3721 - binary_accuracy: 0.8334 - val_loss: 0.3986 - val_binary_accuracy: 0.8429\n",
            "Epoch 110/400\n",
            "66/66 [==============================] - 723s 11s/step - loss: 0.3840 - binary_accuracy: 0.8253 - val_loss: 0.3950 - val_binary_accuracy: 0.8381\n",
            "Epoch 111/400\n",
            "66/66 [==============================] - 722s 11s/step - loss: 0.3855 - binary_accuracy: 0.8286 - val_loss: 0.3778 - val_binary_accuracy: 0.8429\n",
            "Epoch 112/400\n",
            "66/66 [==============================] - 723s 11s/step - loss: 0.3790 - binary_accuracy: 0.8271 - val_loss: 0.3905 - val_binary_accuracy: 0.8510\n"
          ]
        }
      ],
      "source": [
        "results_3 = pretrained_cnn.fit(cnn_train_images, \n",
        "                    cnn_train_labels,\n",
        "                    batch_size = 80, \n",
        "                    epochs = 400,\n",
        "                    validation_data = (cnn_test_images, cnn_test_labels),\n",
        "                    callbacks = [early_stopping])"
      ]
    },
    {
      "cell_type": "code",
      "execution_count": 42,
      "metadata": {
        "id": "90J6-PGopB52"
      },
      "outputs": [],
      "source": [
        "def visualize_training_results(results, model, test_images, test_labels):\n",
        "    history = results.history\n",
        "    plt.figure()\n",
        "    plt.plot(history['val_loss'])\n",
        "    plt.plot(history['loss'])\n",
        "    plt.legend(['val_loss', 'loss'])\n",
        "    plt.title('Loss')\n",
        "    plt.xlabel('Epochs')\n",
        "    plt.ylabel('Loss')\n",
        "    plt.show()\n",
        "    \n",
        "    plt.figure()\n",
        "    plt.plot(history['val_binary_accuracy'])\n",
        "    plt.plot(history['binary_accuracy'])\n",
        "    plt.legend(['val_binary_accuracy', 'val_accuracy'])\n",
        "    plt.title('Accuracy')\n",
        "    plt.xlabel('Epochs')\n",
        "    plt.ylabel('Accuracy')\n",
        "    plt.show()\n",
        "       \n",
        "    y_hat_test = model.predict(test_images)\n",
        "    thresh = 0.5\n",
        "    y_pred = (y_hat_test > thresh).astype(np.int)\n",
        "    y_true = test_labels.astype(np.int)\n",
        "    cm = confusion_matrix(y_true, y_pred)\n",
        "    sns.heatmap(cm, annot = True, cmap = 'Blues', fmt = '0.5g')\n",
        "    plt.xlabel('Predictions')\n",
        "    plt.ylabel('Actuals')\n",
        "    plt.title('Confusion Matrix')\n",
        "    plt.show()\n",
        "\n",
        "    print(classification_report(y_true, y_pred))\n",
        "    print('\\n')\n",
        "    print('Evaluating the Performance:')\n",
        "    \n",
        "    test_score = model.evaluate(test_images, test_labels, verbose = 0)\n",
        "    print(f'Test Loss: {test_score[0]}')\n",
        "    print(f'Test Accuracy: {test_score[1]}')"
      ]
    },
    {
      "cell_type": "code",
      "execution_count": 43,
      "metadata": {
        "id": "YKS84TjjpLb_",
        "colab": {
          "base_uri": "https://localhost:8080/",
          "height": 1000
        },
        "outputId": "c7007892-52d5-419f-e5cf-79c2cfba29b9"
      },
      "outputs": [
        {
          "output_type": "display_data",
          "data": {
            "image/png": "[encoded data removed]",
            "text/plain": [
              "<Figure size 432x288 with 1 Axes>"
            ]
          },
          "metadata": {
            "needs_background": "light"
          }
        },
        {
          "output_type": "display_data",
          "data": {
            "image/png": "[encoded data removed]",
            "text/plain": [
              "<Figure size 432x288 with 1 Axes>"
            ]
          },
          "metadata": {
            "needs_background": "light"
          }
        },
        {
          "output_type": "display_data",
          "data": {
            "image/png": "[encoded data removed]",
            "text/plain": [
              "<Figure size 432x288 with 2 Axes>"
            ]
          },
          "metadata": {
            "needs_background": "light"
          }
        },
        {
          "output_type": "stream",
          "name": "stdout",
          "text": [
            "              precision    recall  f1-score   support\n",
            "\n",
            "           0       0.86      0.80      0.83       255\n",
            "           1       0.87      0.91      0.89       369\n",
            "\n",
            "    accuracy                           0.86       624\n",
            "   macro avg       0.86      0.85      0.86       624\n",
            "weighted avg       0.86      0.86      0.86       624\n",
            "\n",
            "\n",
            "\n",
            "Evaluating the Performance:\n",
            "Test Loss: 0.3727961778640747\n",
            "Test Accuracy: 0.8637820482254028\n"
          ]
        }
      ],
      "source": [
        "visualize_training_results(results_3, pretrained_cnn, cnn_test_images, cnn_test_labels)"
      ]
    }
  ],
  "metadata": {
    "colab": {
      "background_execution": "on",
      "collapsed_sections": [],
      "machine_shape": "hm",
      "name": "***Breast Cancer Transfer Learning VVG16 .3 Dropout Adam/Relu Increased EPOCHs and Batch Size",
      "provenance": [],
      "include_colab_link": true
    },
    "kernelspec": {
      "display_name": "Python 3",
      "name": "python3"
    },
    "language_info": {
      "name": "python"
    }
  },
  "nbformat": 4,
  "nbformat_minor": 0
}