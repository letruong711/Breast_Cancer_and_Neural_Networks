{
  "cells": [
    {
      "cell_type": "markdown",
      "metadata": {
        "id": "view-in-github",
        "colab_type": "text"
      },
      "source": [
        "<a href=\"https://colab.research.google.com/github/letruong711/Breast_Cancer_and_Neural_Networks/blob/main/Breast_Cancer_Transfer_Learning_VVG16_2_Dropout_Adam_Relu.ipynb\" target=\"_parent\"><img src=\"https://colab.research.google.com/assets/colab-badge.svg\" alt=\"Open In Colab\"/></a>"
      ]
    },
    {
      "cell_type": "markdown",
      "metadata": {
        "id": "5x4fWUwz9Euo"
      },
      "source": [
        "##**Mounting Google Drive.**"
      ]
    },
    {
      "cell_type": "code",
      "execution_count": null,
      "metadata": {
        "colab": {
          "base_uri": "https://localhost:8080/"
        },
        "id": "5AwwhHGQ3lGI",
        "outputId": "2f846cff-2f8e-4ea1-8a74-501d4f9b4b61"
      },
      "outputs": [
        {
          "name": "stdout",
          "output_type": "stream",
          "text": [
            "Mounted at /content/drive\n"
          ]
        }
      ],
      "source": [
        "#mount google drive\n",
        "from google.colab import drive\n",
        "drive.mount('/content/drive')"
      ]
    },
    {
      "cell_type": "markdown",
      "metadata": {
        "id": "G666LaWxbSzu"
      },
      "source": [
        "#**Importing Libraries.**#"
      ]
    },
    {
      "cell_type": "code",
      "execution_count": null,
      "metadata": {
        "id": "1DuMmBpz2-hl"
      },
      "outputs": [],
      "source": [
        "import pandas as pd\n",
        "import numpy as np\n",
        "import matplotlib.pyplot as plt\n",
        "%matplotlib inline\n",
        "import seaborn as sns\n",
        "\n",
        "import os\n",
        "import glob\n",
        "import random\n",
        "\n",
        "import keras\n",
        "\n",
        "from keras.models import Sequential\n",
        "from keras.layers import Dense\n",
        "from keras.datasets import mnist\n",
        "\n",
        "from keras.models import load_model\n",
        "from keras.wrappers.scikit_learn import KerasClassifier\n",
        "\n",
        "from sklearn.preprocessing import LabelEncoder\n",
        "from sklearn.model_selection import train_test_split\n",
        "from sklearn.model_selection import GridSearchCV\n",
        "from sklearn.metrics import classification_report\n",
        "from sklearn.metrics import confusion_matrix\n",
        "from sklearn.metrics import plot_confusion_matrix, classification_report\n",
        "\n",
        "import tensorflow as tf\n",
        "from tensorflow.keras import layers\n",
        "from tensorflow.keras import Sequential\n",
        "from tensorflow.keras.applications.vgg19 import VGG19, preprocess_input\n",
        "from tensorflow.keras.layers import Dense, Conv2D, Flatten, Dropout, MaxPool2D\n",
        "from tensorflow.keras.preprocessing.image import ImageDataGenerator, array_to_img, img_to_array, load_img\n",
        "from tensorflow.keras.callbacks import EarlyStopping\n",
        "from tensorflow.keras import optimizers\n",
        "import tensorflow_datasets as tfds\n",
        "\n",
        "import datetime"
      ]
    },
    {
      "cell_type": "markdown",
      "metadata": {
        "id": "8sAo6Yrybepr"
      },
      "source": [
        "#**Importing Data/Establishing Pathways.**"
      ]
    },
    {
      "cell_type": "code",
      "execution_count": null,
      "metadata": {
        "id": "NP_eH-TifYHY"
      },
      "outputs": [],
      "source": [
        "#setting up bridge between collab and drive\n",
        "!pip install -U -q PyDrive\n",
        "from pydrive.auth import GoogleAuth\n",
        "from pydrive.drive import GoogleDrive\n",
        "from google.colab import auth\n",
        "from oauth2client.client import GoogleCredentials"
      ]
    },
    {
      "cell_type": "code",
      "execution_count": null,
      "metadata": {
        "id": "CrsQghh0oEHd"
      },
      "outputs": [],
      "source": [
        "auth.authenticate_user()\n",
        "gauth = GoogleAuth()\n",
        "gauth.credentials = GoogleCredentials.get_application_default()\n",
        "drive = GoogleDrive(gauth)"
      ]
    },
    {
      "cell_type": "code",
      "execution_count": null,
      "metadata": {
        "id": "lu_F4k2ipBGp"
      },
      "outputs": [],
      "source": [
        "fid = drive.ListFile({'q': \"title='updated_kaggle_breast.zip'\"}).GetList()[0]['id']\n",
        "f = drive.CreateFile({'id':fid})\n",
        "f.GetContentFile('updated_kaggle_breast.zip')"
      ]
    },
    {
      "cell_type": "code",
      "execution_count": null,
      "metadata": {
        "id": "ZxC7SKtNPtzR"
      },
      "outputs": [],
      "source": [
        "#unzip massive file.\n",
        "!unzip updated_kaggle_breast.zip"
      ]
    },
    {
      "cell_type": "code",
      "execution_count": null,
      "metadata": {
        "id": "HiViKDCz81mW"
      },
      "outputs": [],
      "source": [
        "PATH = '/content/updated_kaggle_breast/IDC_regular_ps50_idx5'"
      ]
    },
    {
      "cell_type": "code",
      "execution_count": null,
      "metadata": {
        "id": "dTv0XoxcOZ_c"
      },
      "outputs": [],
      "source": [
        "os.listdir(PATH)"
      ]
    },
    {
      "cell_type": "code",
      "execution_count": null,
      "metadata": {
        "id": "N4B0v8UbFt5Y"
      },
      "outputs": [],
      "source": [
        "train_dir = os.path.join(PATH, 'Train')\n",
        "test_dir = os.path.join(PATH, 'Test')"
      ]
    },
    {
      "cell_type": "markdown",
      "metadata": {
        "id": "pn7IsdOjb5YH"
      },
      "source": [
        "##Preprocessing.##"
      ]
    },
    {
      "cell_type": "code",
      "execution_count": null,
      "metadata": {
        "id": "zdhFSyeZbncj"
      },
      "outputs": [],
      "source": [
        "IMG_HEIGHT = 224\n",
        "IMG_WIDTH = 224\n",
        "batch_size = 624"
      ]
    },
    {
      "cell_type": "code",
      "execution_count": null,
      "metadata": {
        "id": "sbN8zqGW9JSN"
      },
      "outputs": [],
      "source": [
        "image_gen = ImageDataGenerator(rescale = 1./255)"
      ]
    },
    {
      "cell_type": "code",
      "execution_count": null,
      "metadata": {
        "colab": {
          "base_uri": "https://localhost:8080/"
        },
        "id": "flZ8avQVcsgh",
        "outputId": "1e55f1d9-5443-406b-baea-a3656dc738ba"
      },
      "outputs": [
        {
          "name": "stdout",
          "output_type": "stream",
          "text": [
            "Found 20467 images belonging to 2 classes.\n"
          ]
        }
      ],
      "source": [
        "train_data_gen = image_gen.flow_from_directory(\n",
        "    directory=train_dir,\n",
        "    shuffle=True,\n",
        "    target_size=(IMG_HEIGHT, IMG_WIDTH),\n",
        "    batch_size= 5216,\n",
        "    class_mode='binary')"
      ]
    },
    {
      "cell_type": "code",
      "execution_count": null,
      "metadata": {
        "colab": {
          "base_uri": "https://localhost:8080/"
        },
        "id": "zJ1_46BUc80D",
        "outputId": "446d7718-17c4-494d-c416-e9899b4014c0"
      },
      "outputs": [
        {
          "name": "stdout",
          "output_type": "stream",
          "text": [
            "Found 6600 images belonging to 2 classes.\n"
          ]
        }
      ],
      "source": [
        "test_data_gen = image_gen.flow_from_directory(\n",
        "    directory = test_dir,\n",
        "    target_size = (IMG_HEIGHT, IMG_WIDTH),\n",
        "    batch_size = batch_size,\n",
        "    class_mode='binary')"
      ]
    },
    {
      "cell_type": "code",
      "execution_count": null,
      "metadata": {
        "id": "YzDxS2j5dC3_"
      },
      "outputs": [],
      "source": [
        "cnn_train_images, cnn_train_labels = next(train_data_gen)\n",
        "cnn_test_images, cnn_test_labels = next(test_data_gen)"
      ]
    },
    {
      "cell_type": "code",
      "execution_count": null,
      "metadata": {
        "colab": {
          "base_uri": "https://localhost:8080/",
          "height": 156
        },
        "id": "-lxjuDUZdFGn",
        "outputId": "d2062325-78a9-403f-dfa7-1637c4e0f437"
      },
      "outputs": [
        {
          "data": {
            "text/plain": [
              "(5216, 224, 224, 3)"
            ]
          },
          "metadata": {},
          "output_type": "display_data"
        },
        {
          "data": {
            "text/plain": [
              "(5216,)"
            ]
          },
          "metadata": {},
          "output_type": "display_data"
        },
        {
          "data": {
            "text/plain": [
              "numpy.ndarray"
            ]
          },
          "metadata": {},
          "output_type": "display_data"
        },
        {
          "data": {
            "text/plain": [
              "numpy.ndarray"
            ]
          },
          "metadata": {},
          "output_type": "display_data"
        },
        {
          "data": {
            "text/plain": [
              "(624, 224, 224, 3)"
            ]
          },
          "metadata": {},
          "output_type": "display_data"
        },
        {
          "data": {
            "text/plain": [
              "(624,)"
            ]
          },
          "metadata": {},
          "output_type": "display_data"
        },
        {
          "data": {
            "text/plain": [
              "numpy.ndarray"
            ]
          },
          "metadata": {},
          "output_type": "display_data"
        },
        {
          "data": {
            "text/plain": [
              "numpy.ndarray"
            ]
          },
          "metadata": {},
          "output_type": "display_data"
        }
      ],
      "source": [
        "#making sure dimensions are correct for CNN\n",
        "display(np.shape(cnn_train_images))\n",
        "display(np.shape(cnn_train_labels))\n",
        "display(type(cnn_train_images))\n",
        "display(type(cnn_train_labels))\n",
        "\n",
        "display(np.shape(cnn_test_images))\n",
        "display(np.shape(cnn_test_labels))\n",
        "display(type(cnn_test_images))\n",
        "display(type(cnn_test_labels))"
      ]
    },
    {
      "cell_type": "markdown",
      "metadata": {
        "id": "vkx5kEddexs-"
      },
      "source": [
        "#**Setting up VGG16.**"
      ]
    },
    {
      "cell_type": "code",
      "execution_count": null,
      "metadata": {
        "id": "gBbt8rFSE74b"
      },
      "outputs": [],
      "source": [
        "from keras.applications.vgg16 import VGG16"
      ]
    },
    {
      "cell_type": "code",
      "execution_count": null,
      "metadata": {
        "colab": {
          "base_uri": "https://localhost:8080/"
        },
        "id": "d7Rhbpd5e0fO",
        "outputId": "b5755ffc-427b-4fc3-9f0f-6b1f1591cfaf"
      },
      "outputs": [
        {
          "name": "stdout",
          "output_type": "stream",
          "text": [
            "Downloading data from https://storage.googleapis.com/tensorflow/keras-applications/vgg16/vgg16_weights_tf_dim_ordering_tf_kernels_notop.h5\n",
            "58892288/58889256 [==============================] - 2s 0us/step\n",
            "58900480/58889256 [==============================] - 2s 0us/step\n"
          ]
        }
      ],
      "source": [
        "pretrained = VGG16(weights = 'imagenet', \n",
        "                   include_top = False, \n",
        "                   input_shape = (224, 224, 3),\n",
        "                   pooling = 'avg')"
      ]
    },
    {
      "cell_type": "code",
      "execution_count": null,
      "metadata": {
        "colab": {
          "base_uri": "https://localhost:8080/"
        },
        "id": "9CRC-uQSgvYF",
        "outputId": "702a41bd-c629-4a12-8d0c-8411f8a44e35"
      },
      "outputs": [
        {
          "name": "stdout",
          "output_type": "stream",
          "text": [
            "Model: \"vgg16\"\n",
            "_________________________________________________________________\n",
            " Layer (type)                Output Shape              Param #   \n",
            "=================================================================\n",
            " input_1 (InputLayer)        [(None, 224, 224, 3)]     0         \n",
            "                                                                 \n",
            " block1_conv1 (Conv2D)       (None, 224, 224, 64)      1792      \n",
            "                                                                 \n",
            " block1_conv2 (Conv2D)       (None, 224, 224, 64)      36928     \n",
            "                                                                 \n",
            " block1_pool (MaxPooling2D)  (None, 112, 112, 64)      0         \n",
            "                                                                 \n",
            " block2_conv1 (Conv2D)       (None, 112, 112, 128)     73856     \n",
            "                                                                 \n",
            " block2_conv2 (Conv2D)       (None, 112, 112, 128)     147584    \n",
            "                                                                 \n",
            " block2_pool (MaxPooling2D)  (None, 56, 56, 128)       0         \n",
            "                                                                 \n",
            " block3_conv1 (Conv2D)       (None, 56, 56, 256)       295168    \n",
            "                                                                 \n",
            " block3_conv2 (Conv2D)       (None, 56, 56, 256)       590080    \n",
            "                                                                 \n",
            " block3_conv3 (Conv2D)       (None, 56, 56, 256)       590080    \n",
            "                                                                 \n",
            " block3_pool (MaxPooling2D)  (None, 28, 28, 256)       0         \n",
            "                                                                 \n",
            " block4_conv1 (Conv2D)       (None, 28, 28, 512)       1180160   \n",
            "                                                                 \n",
            " block4_conv2 (Conv2D)       (None, 28, 28, 512)       2359808   \n",
            "                                                                 \n",
            " block4_conv3 (Conv2D)       (None, 28, 28, 512)       2359808   \n",
            "                                                                 \n",
            " block4_pool (MaxPooling2D)  (None, 14, 14, 512)       0         \n",
            "                                                                 \n",
            " block5_conv1 (Conv2D)       (None, 14, 14, 512)       2359808   \n",
            "                                                                 \n",
            " block5_conv2 (Conv2D)       (None, 14, 14, 512)       2359808   \n",
            "                                                                 \n",
            " block5_conv3 (Conv2D)       (None, 14, 14, 512)       2359808   \n",
            "                                                                 \n",
            " block5_pool (MaxPooling2D)  (None, 7, 7, 512)         0         \n",
            "                                                                 \n",
            " global_average_pooling2d (G  (None, 512)              0         \n",
            " lobalAveragePooling2D)                                          \n",
            "                                                                 \n",
            "=================================================================\n",
            "Total params: 14,714,688\n",
            "Trainable params: 14,714,688\n",
            "Non-trainable params: 0\n",
            "_________________________________________________________________\n"
          ]
        }
      ],
      "source": [
        "pretrained.summary()"
      ]
    },
    {
      "cell_type": "code",
      "execution_count": null,
      "metadata": {
        "id": "douPBuYFg1cl"
      },
      "outputs": [],
      "source": [
        "#defining CNN\n",
        "pretrained_cnn = Sequential()\n",
        "pretrained_cnn.add(pretrained)\n",
        "\n",
        "# freezing layers so they don't get retrained with your new data\n",
        "for layer in pretrained_cnn.layers:\n",
        "    layer.trainable = False "
      ]
    },
    {
      "cell_type": "code",
      "execution_count": null,
      "metadata": {
        "id": "C91Q5q8A66YV"
      },
      "outputs": [],
      "source": [
        "# Adding our own dense layers to customize model to our goals\n",
        "\n",
        "pretrained_cnn.add(layers.Flatten())\n",
        "\n",
        "pretrained_cnn.add(layers.Dropout(rate = 0.2))\n",
        "pretrained_cnn.add(layers.Dense(192, activation = 'relu'))\n",
        "\n",
        "pretrained_cnn.add(layers.Dropout(rate = 0.2))\n",
        "pretrained_cnn.add(layers.Dense(256, activation = 'relu'))\n",
        "\n",
        "\n",
        "pretrained_cnn.add(layers.Dense(1, activation = 'sigmoid'))"
      ]
    },
    {
      "cell_type": "code",
      "execution_count": null,
      "metadata": {
        "colab": {
          "base_uri": "https://localhost:8080/"
        },
        "id": "DVU2pkNGg5nV",
        "outputId": "1fba8f75-b091-418d-af15-7f1c91af3d4f"
      },
      "outputs": [
        {
          "name": "stdout",
          "output_type": "stream",
          "text": [
            "vgg16 False\n",
            "flatten True\n",
            "dropout True\n",
            "dense True\n",
            "dropout_1 True\n",
            "dense_1 True\n",
            "dense_2 True\n"
          ]
        }
      ],
      "source": [
        "# Verifying that the weights are \"frozen\" because we don't want to change the earlier model to help detect patterns.\n",
        "\n",
        "for layer in pretrained_cnn.layers:\n",
        "    print(layer.name, layer.trainable)"
      ]
    },
    {
      "cell_type": "code",
      "execution_count": null,
      "metadata": {
        "id": "XC4O3Iq7kZii"
      },
      "outputs": [],
      "source": [
        "# This will stop training when the monitored metric has stopped improving\n",
        "# This might be more useful when fine tuning a model\n",
        "\n",
        "early_stopping = EarlyStopping(patience = 30,               \n",
        "                               monitor = 'val_binary_accuracy', \n",
        "                               restore_best_weights = True) \n",
        "\n",
        "# Patience = After 30 epochs with no improvement, training will be stopped\n",
        "# Monitor = Binary Accuracy is the quantity being monitored for the patience level\n",
        "# Restoring model weights from the epoch with the best value of the monitored quantity"
      ]
    },
    {
      "cell_type": "code",
      "execution_count": null,
      "metadata": {
        "id": "ntfolV0khDzd"
      },
      "outputs": [],
      "source": [
        "#compile the model\n",
        "pretrained_cnn.compile(loss = 'binary_crossentropy', \n",
        "            optimizer = 'Adam', \n",
        "            metrics = ['binary_accuracy'])"
      ]
    },
    {
      "cell_type": "code",
      "execution_count": null,
      "metadata": {
        "colab": {
          "base_uri": "https://localhost:8080/"
        },
        "id": "t5V1hQ68hWm8",
        "outputId": "b86965dd-9930-4da2-e5d4-8efc5bb3a7e4"
      },
      "outputs": [
        {
          "name": "stdout",
          "output_type": "stream",
          "text": [
            "Model: \"sequential\"\n",
            "_________________________________________________________________\n",
            " Layer (type)                Output Shape              Param #   \n",
            "=================================================================\n",
            " vgg16 (Functional)          (None, 512)               14714688  \n",
            "                                                                 \n",
            " flatten (Flatten)           (None, 512)               0         \n",
            "                                                                 \n",
            " dropout (Dropout)           (None, 512)               0         \n",
            "                                                                 \n",
            " dense (Dense)               (None, 192)               98496     \n",
            "                                                                 \n",
            " dropout_1 (Dropout)         (None, 192)               0         \n",
            "                                                                 \n",
            " dense_1 (Dense)             (None, 256)               49408     \n",
            "                                                                 \n",
            " dense_2 (Dense)             (None, 1)                 257       \n",
            "                                                                 \n",
            "=================================================================\n",
            "Total params: 14,862,849\n",
            "Trainable params: 148,161\n",
            "Non-trainable params: 14,714,688\n",
            "_________________________________________________________________\n"
          ]
        }
      ],
      "source": [
        "#reviewing the model\n",
        "pretrained_cnn.summary()"
      ]
    },
    {
      "cell_type": "markdown",
      "metadata": {
        "id": "MY1n_H2-7TBY"
      },
      "source": [
        "##**VGG16 CNN.**"
      ]
    },
    {
      "cell_type": "code",
      "execution_count": null,
      "metadata": {
        "colab": {
          "base_uri": "https://localhost:8080/"
        },
        "id": "2sljiNzx7PBz",
        "outputId": "e5196bb4-46fc-45d2-832c-129bf109eebd"
      },
      "outputs": [
        {
          "output_type": "stream",
          "name": "stdout",
          "text": [
            "Epoch 1/300\n",
            "87/87 [==============================] - 690s 8s/step - loss: 0.5092 - binary_accuracy: 0.7609 - val_loss: 0.3491 - val_binary_accuracy: 0.8622\n",
            "Epoch 2/300\n",
            "87/87 [==============================] - 686s 8s/step - loss: 0.4976 - binary_accuracy: 0.7619 - val_loss: 0.3276 - val_binary_accuracy: 0.8750\n",
            "Epoch 3/300\n",
            "87/87 [==============================] - 685s 8s/step - loss: 0.4833 - binary_accuracy: 0.7805 - val_loss: 0.3282 - val_binary_accuracy: 0.8638\n",
            "Epoch 4/300\n",
            "87/87 [==============================] - 691s 8s/step - loss: 0.4783 - binary_accuracy: 0.7814 - val_loss: 0.3317 - val_binary_accuracy: 0.8638\n",
            "Epoch 5/300\n",
            "87/87 [==============================] - 648s 7s/step - loss: 0.4728 - binary_accuracy: 0.7834 - val_loss: 0.3199 - val_binary_accuracy: 0.8670\n",
            "Epoch 6/300\n",
            "87/87 [==============================] - 651s 7s/step - loss: 0.4634 - binary_accuracy: 0.7914 - val_loss: 0.3275 - val_binary_accuracy: 0.8622\n",
            "Epoch 7/300\n",
            "87/87 [==============================] - 677s 8s/step - loss: 0.4645 - binary_accuracy: 0.7901 - val_loss: 0.3506 - val_binary_accuracy: 0.8606\n",
            "Epoch 8/300\n",
            "87/87 [==============================] - 739s 9s/step - loss: 0.4685 - binary_accuracy: 0.7882 - val_loss: 0.3360 - val_binary_accuracy: 0.8734\n",
            "Epoch 9/300\n",
            "87/87 [==============================] - 732s 8s/step - loss: 0.4593 - binary_accuracy: 0.7966 - val_loss: 0.3367 - val_binary_accuracy: 0.8638\n",
            "Epoch 10/300\n",
            "87/87 [==============================] - 728s 8s/step - loss: 0.4468 - binary_accuracy: 0.7981 - val_loss: 0.3484 - val_binary_accuracy: 0.8574\n",
            "Epoch 11/300\n",
            "87/87 [==============================] - 727s 8s/step - loss: 0.4503 - binary_accuracy: 0.8016 - val_loss: 0.3428 - val_binary_accuracy: 0.8622\n",
            "Epoch 12/300\n",
            "87/87 [==============================] - 728s 8s/step - loss: 0.4459 - binary_accuracy: 0.7995 - val_loss: 0.3579 - val_binary_accuracy: 0.8558\n",
            "Epoch 13/300\n",
            "87/87 [==============================] - 729s 8s/step - loss: 0.4516 - binary_accuracy: 0.7916 - val_loss: 0.3213 - val_binary_accuracy: 0.8686\n",
            "Epoch 14/300\n",
            "87/87 [==============================] - 728s 8s/step - loss: 0.4481 - binary_accuracy: 0.7960 - val_loss: 0.3520 - val_binary_accuracy: 0.8606\n",
            "Epoch 15/300\n",
            "87/87 [==============================] - 727s 8s/step - loss: 0.4465 - binary_accuracy: 0.7964 - val_loss: 0.3452 - val_binary_accuracy: 0.8670\n",
            "Epoch 16/300\n",
            "87/87 [==============================] - 728s 8s/step - loss: 0.4487 - binary_accuracy: 0.7958 - val_loss: 0.3431 - val_binary_accuracy: 0.8590\n",
            "Epoch 17/300\n",
            "87/87 [==============================] - 728s 8s/step - loss: 0.4403 - binary_accuracy: 0.8016 - val_loss: 0.3291 - val_binary_accuracy: 0.8734\n",
            "Epoch 18/300\n",
            "87/87 [==============================] - 728s 8s/step - loss: 0.4351 - binary_accuracy: 0.8033 - val_loss: 0.3205 - val_binary_accuracy: 0.8718\n",
            "Epoch 19/300\n",
            "87/87 [==============================] - 726s 8s/step - loss: 0.4334 - binary_accuracy: 0.8033 - val_loss: 0.3486 - val_binary_accuracy: 0.8542\n",
            "Epoch 20/300\n",
            "87/87 [==============================] - 726s 8s/step - loss: 0.4306 - binary_accuracy: 0.8056 - val_loss: 0.3334 - val_binary_accuracy: 0.8734\n",
            "Epoch 21/300\n",
            "87/87 [==============================] - 728s 8s/step - loss: 0.4259 - binary_accuracy: 0.8083 - val_loss: 0.3478 - val_binary_accuracy: 0.8622\n",
            "Epoch 22/300\n",
            "87/87 [==============================] - 727s 8s/step - loss: 0.4307 - binary_accuracy: 0.8062 - val_loss: 0.3586 - val_binary_accuracy: 0.8542\n",
            "Epoch 23/300\n",
            "87/87 [==============================] - 726s 8s/step - loss: 0.4263 - binary_accuracy: 0.8129 - val_loss: 0.3519 - val_binary_accuracy: 0.8590\n",
            "Epoch 24/300\n",
            "87/87 [==============================] - 726s 8s/step - loss: 0.4257 - binary_accuracy: 0.8069 - val_loss: 0.3413 - val_binary_accuracy: 0.8750\n",
            "Epoch 25/300\n",
            "87/87 [==============================] - 725s 8s/step - loss: 0.4317 - binary_accuracy: 0.8073 - val_loss: 0.3392 - val_binary_accuracy: 0.8686\n",
            "Epoch 26/300\n",
            "87/87 [==============================] - 726s 8s/step - loss: 0.4287 - binary_accuracy: 0.8062 - val_loss: 0.3629 - val_binary_accuracy: 0.8558\n",
            "Epoch 27/300\n",
            "87/87 [==============================] - 727s 8s/step - loss: 0.4275 - binary_accuracy: 0.8016 - val_loss: 0.3561 - val_binary_accuracy: 0.8590\n",
            "Epoch 28/300\n",
            "87/87 [==============================] - 727s 8s/step - loss: 0.4177 - binary_accuracy: 0.8092 - val_loss: 0.3402 - val_binary_accuracy: 0.8606\n",
            "Epoch 29/300\n",
            "87/87 [==============================] - 726s 8s/step - loss: 0.4235 - binary_accuracy: 0.8075 - val_loss: 0.3413 - val_binary_accuracy: 0.8654\n",
            "Epoch 30/300\n",
            "87/87 [==============================] - 727s 8s/step - loss: 0.4181 - binary_accuracy: 0.8073 - val_loss: 0.3568 - val_binary_accuracy: 0.8638\n",
            "Epoch 31/300\n",
            "87/87 [==============================] - 728s 8s/step - loss: 0.4162 - binary_accuracy: 0.8087 - val_loss: 0.3561 - val_binary_accuracy: 0.8638\n",
            "Epoch 32/300\n",
            "87/87 [==============================] - 728s 8s/step - loss: 0.4118 - binary_accuracy: 0.8184 - val_loss: 0.3454 - val_binary_accuracy: 0.8654\n"
          ]
        }
      ],
      "source": [
        "results_3 = pretrained_cnn.fit(cnn_train_images, \n",
        "                    cnn_train_labels,\n",
        "                    batch_size = 60, \n",
        "                    epochs = 300,\n",
        "                    validation_data = (cnn_test_images, cnn_test_labels),\n",
        "                    callbacks = [early_stopping])"
      ]
    },
    {
      "cell_type": "code",
      "execution_count": null,
      "metadata": {
        "id": "90J6-PGopB52"
      },
      "outputs": [],
      "source": [
        "def visualize_training_results(results, model, test_images, test_labels):\n",
        "    history = results.history\n",
        "    plt.figure()\n",
        "    plt.plot(history['val_loss'])\n",
        "    plt.plot(history['loss'])\n",
        "    plt.legend(['val_loss', 'loss'])\n",
        "    plt.title('Loss')\n",
        "    plt.xlabel('Epochs')\n",
        "    plt.ylabel('Loss')\n",
        "    plt.show()\n",
        "    \n",
        "    plt.figure()\n",
        "    plt.plot(history['val_binary_accuracy'])\n",
        "    plt.plot(history['binary_accuracy'])\n",
        "    plt.legend(['val_binary_accuracy', 'val_accuracy'])\n",
        "    plt.title('Accuracy')\n",
        "    plt.xlabel('Epochs')\n",
        "    plt.ylabel('Accuracy')\n",
        "    plt.show()\n",
        "       \n",
        "    y_hat_test = model.predict(test_images)\n",
        "    thresh = 0.5\n",
        "    y_pred = (y_hat_test > thresh).astype(np.int)\n",
        "    y_true = test_labels.astype(np.int)\n",
        "    cm = confusion_matrix(y_true, y_pred)\n",
        "    sns.heatmap(cm, annot = True, cmap = 'Blues', fmt = '0.5g')\n",
        "    plt.xlabel('Predictions')\n",
        "    plt.ylabel('Actuals')\n",
        "    plt.title('Confusion Matrix')\n",
        "    plt.show()\n",
        "\n",
        "    print(classification_report(y_true, y_pred))\n",
        "    print('\\n')\n",
        "    print('\\n')\n",
        "    print('Evaluating the Performance')\n",
        "    print('\\n')\n",
        "    \n",
        "    test_score = model.evaluate(test_images, test_labels, verbose = 0)\n",
        "    print(f'Test Loss: {test_score[0]}')\n",
        "    print(f'Test Accuracy: {test_score[1]}')"
      ]
    },
    {
      "cell_type": "code",
      "execution_count": null,
      "metadata": {
        "id": "YKS84TjjpLb_",
        "colab": {
          "base_uri": "https://localhost:8080/",
          "height": 1000
        },
        "outputId": "3c467e6f-66f5-4fa7-eab0-54772031e202"
      },
      "outputs": [
        {
          "output_type": "display_data",
          "data": {
            "image/png": "[encoded data removed]",
            "text/plain": [
              "<Figure size 432x288 with 1 Axes>"
            ]
          },
          "metadata": {
            "needs_background": "light"
          }
        },
        {
          "output_type": "display_data",
          "data": {
            "image/png": "[encoded data removed]",
            "text/plain": [
              "<Figure size 432x288 with 1 Axes>"
            ]
          },
          "metadata": {
            "needs_background": "light"
          }
        },
        {
          "output_type": "display_data",
          "data": {
            "image/png": "[encoded data removed]",
            "text/plain": [
              "<Figure size 432x288 with 2 Axes>"
            ]
          },
          "metadata": {
            "needs_background": "light"
          }
        },
        {
          "output_type": "stream",
          "name": "stdout",
          "text": [
            "              precision    recall  f1-score   support\n",
            "\n",
            "           0       0.87      0.78      0.82       232\n",
            "           1       0.88      0.93      0.90       392\n",
            "\n",
            "    accuracy                           0.88       624\n",
            "   macro avg       0.87      0.85      0.86       624\n",
            "weighted avg       0.87      0.88      0.87       624\n",
            "\n",
            "\n",
            "\n",
            "\n",
            "\n",
            "Evaluating the Performance\n",
            "\n",
            "\n",
            "Test Loss: 0.32757043838500977\n",
            "Test Accuracy: 0.875\n"
          ]
        }
      ],
      "source": [
        "visualize_training_results(results_3, pretrained_cnn, cnn_test_images, cnn_test_labels)"
      ]
    },
    {
      "cell_type": "markdown",
      "source": [
        "#**Results.**##\n",
        "- Highest level of accuracy.\n",
        "  - Serverly overfitting as shown by the graphs above.\n",
        "  - Higher levels of dropout reduce accuracy rate and only slightly increase the overfitting issue.\n",
        "  "
      ],
      "metadata": {
        "id": "wU3LfVsz7GWW"
      }
    }
  ],
  "metadata": {
    "colab": {
      "background_execution": "on",
      "collapsed_sections": [],
      "machine_shape": "hm",
      "name": "Breast Cancer Transfer Learning VVG16 .2 Dropout Adam/Relu",
      "provenance": [],
      "include_colab_link": true
    },
    "kernelspec": {
      "display_name": "Python 3",
      "name": "python3"
    },
    "language_info": {
      "name": "python"
    }
  },
  "nbformat": 4,
  "nbformat_minor": 0
}