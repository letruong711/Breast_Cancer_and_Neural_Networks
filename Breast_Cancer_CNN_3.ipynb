{
  "cells": [
    {
      "cell_type": "markdown",
      "metadata": {
        "id": "view-in-github",
        "colab_type": "text"
      },
      "source": [
        "<a href=\"https://colab.research.google.com/github/letruong711/Breast_Cancer_and_Neural_Networks/blob/main/Breast_Cancer_CNN_3.ipynb\" target=\"_parent\"><img src=\"https://colab.research.google.com/assets/colab-badge.svg\" alt=\"Open In Colab\"/></a>"
      ]
    },
    {
      "cell_type": "markdown",
      "metadata": {
        "id": "R5qqUNoz82ZR"
      },
      "source": [
        "#**Mouting Google Drive.**"
      ]
    },
    {
      "cell_type": "code",
      "execution_count": null,
      "metadata": {
        "colab": {
          "base_uri": "https://localhost:8080/"
        },
        "id": "5AwwhHGQ3lGI",
        "outputId": "3229f67b-1b25-45ce-e982-86a0cbcc4547"
      },
      "outputs": [
        {
          "output_type": "stream",
          "name": "stdout",
          "text": [
            "Mounted at /content/drive\n"
          ]
        }
      ],
      "source": [
        "#mount google drive\n",
        "from google.colab import drive\n",
        "drive.mount('/content/drive')"
      ]
    },
    {
      "cell_type": "markdown",
      "metadata": {
        "id": "G666LaWxbSzu"
      },
      "source": [
        "#**Importing Libraries.**#"
      ]
    },
    {
      "cell_type": "code",
      "execution_count": null,
      "metadata": {
        "id": "1DuMmBpz2-hl"
      },
      "outputs": [],
      "source": [
        "import pandas as pd\n",
        "import numpy as np\n",
        "import matplotlib.pyplot as plt\n",
        "%matplotlib inline\n",
        "import seaborn as sns\n",
        "\n",
        "import os\n",
        "import glob\n",
        "import random\n",
        "\n",
        "import keras\n",
        "\n",
        "from keras.models import Sequential\n",
        "from keras.layers import Dense\n",
        "from keras.datasets import mnist\n",
        "\n",
        "from keras.models import load_model\n",
        "from keras.wrappers.scikit_learn import KerasClassifier\n",
        "\n",
        "from sklearn.preprocessing import LabelEncoder\n",
        "from sklearn.model_selection import train_test_split\n",
        "from sklearn.model_selection import GridSearchCV\n",
        "from sklearn.metrics import classification_report\n",
        "from sklearn.metrics import confusion_matrix\n",
        "from sklearn.metrics import plot_confusion_matrix, classification_report\n",
        "\n",
        "import tensorflow as tf\n",
        "from tensorflow.keras import layers\n",
        "from tensorflow.keras import Sequential\n",
        "from tensorflow.keras.applications.vgg19 import VGG19, preprocess_input\n",
        "from tensorflow.keras.layers import Dense, Conv2D, Flatten, Dropout, MaxPool2D\n",
        "from tensorflow.keras.preprocessing.image import ImageDataGenerator, array_to_img, img_to_array, load_img\n",
        "from tensorflow.keras.callbacks import EarlyStopping\n",
        "from tensorflow.keras import optimizers\n",
        "import tensorflow_datasets as tfds\n",
        "\n",
        "import datetime"
      ]
    },
    {
      "cell_type": "markdown",
      "metadata": {
        "id": "8sAo6Yrybepr"
      },
      "source": [
        "#**Importing Data/Establishing Pathways.**"
      ]
    },
    {
      "cell_type": "code",
      "execution_count": null,
      "metadata": {
        "id": "NP_eH-TifYHY"
      },
      "outputs": [],
      "source": [
        "#setting up bridge between collab and drive\n",
        "!pip install -U -q PyDrive\n",
        "from pydrive.auth import GoogleAuth\n",
        "from pydrive.drive import GoogleDrive\n",
        "from google.colab import auth\n",
        "from oauth2client.client import GoogleCredentials"
      ]
    },
    {
      "cell_type": "code",
      "execution_count": null,
      "metadata": {
        "id": "CrsQghh0oEHd"
      },
      "outputs": [],
      "source": [
        "auth.authenticate_user()\n",
        "gauth = GoogleAuth()\n",
        "gauth.credentials = GoogleCredentials.get_application_default()\n",
        "drive = GoogleDrive(gauth)"
      ]
    },
    {
      "cell_type": "code",
      "execution_count": null,
      "metadata": {
        "id": "lu_F4k2ipBGp"
      },
      "outputs": [],
      "source": [
        "fid = drive.ListFile({'q': \"title='updated_kaggle_breast.zip'\"}).GetList()[0]['id']\n",
        "f = drive.CreateFile({'id':fid})\n",
        "f.GetContentFile('updated_kaggle_breast.zip')"
      ]
    },
    {
      "cell_type": "code",
      "execution_count": null,
      "metadata": {
        "id": "ZxC7SKtNPtzR"
      },
      "outputs": [],
      "source": [
        "#unzip massive file.\n",
        "!unzip updated_kaggle_breast.zip"
      ]
    },
    {
      "cell_type": "code",
      "execution_count": null,
      "metadata": {
        "id": "HiViKDCz81mW"
      },
      "outputs": [],
      "source": [
        "PATH = '/content/updated_kaggle_breast/IDC_regular_ps50_idx5'"
      ]
    },
    {
      "cell_type": "code",
      "execution_count": null,
      "metadata": {
        "id": "dTv0XoxcOZ_c"
      },
      "outputs": [],
      "source": [
        "os.listdir(PATH)"
      ]
    },
    {
      "cell_type": "code",
      "execution_count": null,
      "metadata": {
        "id": "N4B0v8UbFt5Y"
      },
      "outputs": [],
      "source": [
        "train_dir = os.path.join(PATH, 'Train')\n",
        "test_dir = os.path.join(PATH, 'Test')"
      ]
    },
    {
      "cell_type": "markdown",
      "metadata": {
        "id": "pn7IsdOjb5YH"
      },
      "source": [
        "##Preprocessing.##"
      ]
    },
    {
      "cell_type": "code",
      "execution_count": null,
      "metadata": {
        "id": "zdhFSyeZbncj"
      },
      "outputs": [],
      "source": [
        "IMG_HEIGHT = 224\n",
        "IMG_WIDTH = 224\n",
        "batch_size = 624"
      ]
    },
    {
      "cell_type": "code",
      "execution_count": null,
      "metadata": {
        "id": "sbN8zqGW9JSN"
      },
      "outputs": [],
      "source": [
        "image_gen = ImageDataGenerator(rescale = 1./255)"
      ]
    },
    {
      "cell_type": "code",
      "execution_count": null,
      "metadata": {
        "colab": {
          "base_uri": "https://localhost:8080/"
        },
        "id": "flZ8avQVcsgh",
        "outputId": "cf365ac8-4906-44f4-c933-ec0a90887e61"
      },
      "outputs": [
        {
          "output_type": "stream",
          "name": "stdout",
          "text": [
            "Found 20467 images belonging to 2 classes.\n"
          ]
        }
      ],
      "source": [
        "train_data_gen = image_gen.flow_from_directory(\n",
        "    directory=train_dir,\n",
        "    shuffle=True,\n",
        "    target_size=(IMG_HEIGHT, IMG_WIDTH),\n",
        "    batch_size= 5216,\n",
        "    class_mode='binary')"
      ]
    },
    {
      "cell_type": "code",
      "execution_count": null,
      "metadata": {
        "colab": {
          "base_uri": "https://localhost:8080/"
        },
        "id": "zJ1_46BUc80D",
        "outputId": "d5c7d710-c61e-4b79-89e3-f6ae5c829370"
      },
      "outputs": [
        {
          "output_type": "stream",
          "name": "stdout",
          "text": [
            "Found 6600 images belonging to 2 classes.\n"
          ]
        }
      ],
      "source": [
        "test_data_gen = image_gen.flow_from_directory(\n",
        "    directory = test_dir,\n",
        "    target_size = (IMG_HEIGHT, IMG_WIDTH),\n",
        "    batch_size = batch_size,\n",
        "    class_mode='binary')"
      ]
    },
    {
      "cell_type": "code",
      "execution_count": null,
      "metadata": {
        "id": "YzDxS2j5dC3_"
      },
      "outputs": [],
      "source": [
        "cnn_train_images, cnn_train_labels = next(train_data_gen)\n",
        "cnn_test_images, cnn_test_labels = next(test_data_gen)"
      ]
    },
    {
      "cell_type": "code",
      "execution_count": null,
      "metadata": {
        "colab": {
          "base_uri": "https://localhost:8080/",
          "height": 156
        },
        "id": "-lxjuDUZdFGn",
        "outputId": "62d5cebb-18d3-458f-b79a-daa6ab40049d"
      },
      "outputs": [
        {
          "output_type": "display_data",
          "data": {
            "text/plain": [
              "(5216, 224, 224, 3)"
            ]
          },
          "metadata": {}
        },
        {
          "output_type": "display_data",
          "data": {
            "text/plain": [
              "(5216,)"
            ]
          },
          "metadata": {}
        },
        {
          "output_type": "display_data",
          "data": {
            "text/plain": [
              "numpy.ndarray"
            ]
          },
          "metadata": {}
        },
        {
          "output_type": "display_data",
          "data": {
            "text/plain": [
              "numpy.ndarray"
            ]
          },
          "metadata": {}
        },
        {
          "output_type": "display_data",
          "data": {
            "text/plain": [
              "(624, 224, 224, 3)"
            ]
          },
          "metadata": {}
        },
        {
          "output_type": "display_data",
          "data": {
            "text/plain": [
              "(624,)"
            ]
          },
          "metadata": {}
        },
        {
          "output_type": "display_data",
          "data": {
            "text/plain": [
              "numpy.ndarray"
            ]
          },
          "metadata": {}
        },
        {
          "output_type": "display_data",
          "data": {
            "text/plain": [
              "numpy.ndarray"
            ]
          },
          "metadata": {}
        }
      ],
      "source": [
        "#making sure dimensions are correct for CNN\n",
        "display(np.shape(cnn_train_images))\n",
        "display(np.shape(cnn_train_labels))\n",
        "display(type(cnn_train_images))\n",
        "display(type(cnn_train_labels))\n",
        "\n",
        "display(np.shape(cnn_test_images))\n",
        "display(np.shape(cnn_test_labels))\n",
        "display(type(cnn_test_images))\n",
        "display(type(cnn_test_labels))"
      ]
    },
    {
      "cell_type": "markdown",
      "metadata": {
        "id": "vkx5kEddexs-"
      },
      "source": [
        "#**Creating CNN.**"
      ]
    },
    {
      "cell_type": "code",
      "execution_count": null,
      "metadata": {
        "id": "d7Rhbpd5e0fO"
      },
      "outputs": [],
      "source": [
        "#drop out .3\n",
        "def initialize_model():\n",
        "    model = Sequential()\n",
        "    model.add(layers.Conv2D(32, (3, 3), activation=\"relu\", input_shape=(IMG_HEIGHT, IMG_WIDTH, 3), padding='same'))\n",
        "    model.add(layers.MaxPool2D(pool_size=(2, 2)))\n",
        "    model.add(layers.Dropout(rate=0.3))\n",
        "    model.add(layers.Conv2D(64, (3, 3), activation=\"relu\", padding='same'))\n",
        "    model.add(layers.MaxPool2D(pool_size=(2, 2)))\n",
        "    model.add(layers.Dropout(rate=0.3))\n",
        "    model.add(layers.Conv2D(128, (3, 3), activation=\"relu\", padding='same'))\n",
        "    model.add(layers.Dropout(rate=0.3))\n",
        "    model.add(layers.Conv2D(192, (3, 3), activation=\"relu\", padding='same'))\n",
        "    model.add(layers.Dropout(rate=0.3))\n",
        "    model.add(layers.Conv2D(256, (3, 3), activation=\"relu\", padding='same'))\n",
        "    model.add(layers.MaxPool2D(pool_size=(3, 3)))\n",
        "    model.add(layers.Dropout(rate=0.3))\n",
        "    model.add(layers.Flatten())\n",
        "    model.add(layers.Dense(512, activation = 'relu'))\n",
        "    model.add(layers.Dropout(rate=0.3))\n",
        "    model.add(layers.Dense(1, activation='sigmoid'))\n",
        "\n",
        "    return model"
      ]
    },
    {
      "cell_type": "code",
      "execution_count": null,
      "metadata": {
        "id": "9CRC-uQSgvYF"
      },
      "outputs": [],
      "source": [
        "cnn = initialize_model()"
      ]
    },
    {
      "cell_type": "code",
      "execution_count": null,
      "metadata": {
        "id": "douPBuYFg1cl"
      },
      "outputs": [],
      "source": [
        "#compile CNN\n",
        "cnn.compile(loss='binary_crossentropy', optimizer='adam', metrics=['accuracy'])"
      ]
    },
    {
      "cell_type": "code",
      "execution_count": null,
      "metadata": {
        "colab": {
          "base_uri": "https://localhost:8080/"
        },
        "id": "DVU2pkNGg5nV",
        "outputId": "d3e609c9-4c16-447f-ea84-341cecfa05d3"
      },
      "outputs": [
        {
          "output_type": "stream",
          "name": "stdout",
          "text": [
            "Model: \"sequential\"\n",
            "_________________________________________________________________\n",
            " Layer (type)                Output Shape              Param #   \n",
            "=================================================================\n",
            " conv2d (Conv2D)             (None, 224, 224, 32)      896       \n",
            "                                                                 \n",
            " max_pooling2d (MaxPooling2D  (None, 112, 112, 32)     0         \n",
            " )                                                               \n",
            "                                                                 \n",
            " dropout (Dropout)           (None, 112, 112, 32)      0         \n",
            "                                                                 \n",
            " conv2d_1 (Conv2D)           (None, 112, 112, 64)      18496     \n",
            "                                                                 \n",
            " max_pooling2d_1 (MaxPooling  (None, 56, 56, 64)       0         \n",
            " 2D)                                                             \n",
            "                                                                 \n",
            " dropout_1 (Dropout)         (None, 56, 56, 64)        0         \n",
            "                                                                 \n",
            " conv2d_2 (Conv2D)           (None, 56, 56, 128)       73856     \n",
            "                                                                 \n",
            " dropout_2 (Dropout)         (None, 56, 56, 128)       0         \n",
            "                                                                 \n",
            " conv2d_3 (Conv2D)           (None, 56, 56, 192)       221376    \n",
            "                                                                 \n",
            " dropout_3 (Dropout)         (None, 56, 56, 192)       0         \n",
            "                                                                 \n",
            " conv2d_4 (Conv2D)           (None, 56, 56, 256)       442624    \n",
            "                                                                 \n",
            " max_pooling2d_2 (MaxPooling  (None, 18, 18, 256)      0         \n",
            " 2D)                                                             \n",
            "                                                                 \n",
            " flatten (Flatten)           (None, 82944)             0         \n",
            "                                                                 \n",
            " dense (Dense)               (None, 512)               42467840  \n",
            "                                                                 \n",
            " dropout_4 (Dropout)         (None, 512)               0         \n",
            "                                                                 \n",
            " dense_1 (Dense)             (None, 1)                 513       \n",
            "                                                                 \n",
            "=================================================================\n",
            "Total params: 43,225,601\n",
            "Trainable params: 43,225,601\n",
            "Non-trainable params: 0\n",
            "_________________________________________________________________\n"
          ]
        }
      ],
      "source": [
        "cnn.summary()"
      ]
    },
    {
      "cell_type": "code",
      "execution_count": null,
      "metadata": {
        "id": "XC4O3Iq7kZii"
      },
      "outputs": [],
      "source": [
        "# This will stop training when the monitored metric has stopped improving\n",
        "# This might be more useful when fine tuning a model\n",
        "\n",
        "early_stopping = EarlyStopping(patience = 30,               \n",
        "                               monitor = 'val_accuracy', \n",
        "                               restore_best_weights = True) \n",
        "\n",
        "# Patience = After 30 epochs with no improvement, training will be stopped\n",
        "# Monitor = Binary Accuracy is the quantity being monitored for the patience level\n",
        "# Restoring model weights from the epoch with the best value of the monitored quantity"
      ]
    },
    {
      "cell_type": "code",
      "execution_count": null,
      "metadata": {
        "colab": {
          "base_uri": "https://localhost:8080/"
        },
        "id": "ntfolV0khDzd",
        "outputId": "a47e59f4-3807-4f19-cdfb-a6a197ce2c4c"
      },
      "outputs": [
        {
          "output_type": "stream",
          "name": "stdout",
          "text": [
            "Epoch 1/300\n",
            "87/87 - 499s - loss: 1.0641 - accuracy: 0.5504 - val_loss: 0.6843 - val_accuracy: 0.5962 - 499s/epoch - 6s/step\n",
            "Epoch 2/300\n",
            "87/87 - 493s - loss: 0.6939 - accuracy: 0.4916 - val_loss: 0.6925 - val_accuracy: 0.5962 - 493s/epoch - 6s/step\n",
            "Epoch 3/300\n",
            "87/87 - 491s - loss: 0.6932 - accuracy: 0.4933 - val_loss: 0.6940 - val_accuracy: 0.4038 - 491s/epoch - 6s/step\n",
            "Epoch 4/300\n",
            "87/87 - 492s - loss: 0.6931 - accuracy: 0.5084 - val_loss: 0.6948 - val_accuracy: 0.4038 - 492s/epoch - 6s/step\n",
            "Epoch 5/300\n",
            "87/87 - 490s - loss: 0.6929 - accuracy: 0.5084 - val_loss: 0.6957 - val_accuracy: 0.4038 - 490s/epoch - 6s/step\n",
            "Epoch 6/300\n",
            "87/87 - 490s - loss: 0.6927 - accuracy: 0.5084 - val_loss: 0.6953 - val_accuracy: 0.4038 - 490s/epoch - 6s/step\n",
            "Epoch 7/300\n",
            "87/87 - 489s - loss: 0.6695 - accuracy: 0.5834 - val_loss: 0.5155 - val_accuracy: 0.6266 - 489s/epoch - 6s/step\n",
            "Epoch 8/300\n",
            "87/87 - 489s - loss: 0.4730 - accuracy: 0.7847 - val_loss: 0.5187 - val_accuracy: 0.7692 - 489s/epoch - 6s/step\n",
            "Epoch 9/300\n",
            "87/87 - 488s - loss: 0.4287 - accuracy: 0.8171 - val_loss: 0.3783 - val_accuracy: 0.8574 - 488s/epoch - 6s/step\n",
            "Epoch 10/300\n",
            "87/87 - 488s - loss: 0.4104 - accuracy: 0.8278 - val_loss: 0.3724 - val_accuracy: 0.8670 - 488s/epoch - 6s/step\n",
            "Epoch 11/300\n",
            "87/87 - 489s - loss: 0.3978 - accuracy: 0.8294 - val_loss: 0.4126 - val_accuracy: 0.8462 - 489s/epoch - 6s/step\n",
            "Epoch 12/300\n",
            "87/87 - 492s - loss: 0.3795 - accuracy: 0.8397 - val_loss: 0.3704 - val_accuracy: 0.8590 - 492s/epoch - 6s/step\n",
            "Epoch 13/300\n",
            "87/87 - 489s - loss: 0.4060 - accuracy: 0.8269 - val_loss: 0.3812 - val_accuracy: 0.8510 - 489s/epoch - 6s/step\n",
            "Epoch 14/300\n",
            "87/87 - 487s - loss: 0.3705 - accuracy: 0.8434 - val_loss: 0.3975 - val_accuracy: 0.8510 - 487s/epoch - 6s/step\n",
            "Epoch 15/300\n",
            "87/87 - 489s - loss: 0.3757 - accuracy: 0.8384 - val_loss: 0.4116 - val_accuracy: 0.8462 - 489s/epoch - 6s/step\n",
            "Epoch 16/300\n",
            "87/87 - 488s - loss: 0.3661 - accuracy: 0.8430 - val_loss: 0.3848 - val_accuracy: 0.8590 - 488s/epoch - 6s/step\n",
            "Epoch 17/300\n",
            "87/87 - 488s - loss: 0.3614 - accuracy: 0.8495 - val_loss: 0.3731 - val_accuracy: 0.8606 - 488s/epoch - 6s/step\n",
            "Epoch 18/300\n",
            "87/87 - 487s - loss: 0.3535 - accuracy: 0.8501 - val_loss: 0.3903 - val_accuracy: 0.8446 - 487s/epoch - 6s/step\n",
            "Epoch 19/300\n",
            "87/87 - 487s - loss: 0.3596 - accuracy: 0.8453 - val_loss: 0.3853 - val_accuracy: 0.8462 - 487s/epoch - 6s/step\n",
            "Epoch 20/300\n",
            "87/87 - 489s - loss: 0.3422 - accuracy: 0.8574 - val_loss: 0.4395 - val_accuracy: 0.8349 - 489s/epoch - 6s/step\n",
            "Epoch 21/300\n",
            "87/87 - 490s - loss: 0.3284 - accuracy: 0.8668 - val_loss: 0.3935 - val_accuracy: 0.8574 - 490s/epoch - 6s/step\n",
            "Epoch 22/300\n",
            "87/87 - 490s - loss: 0.3639 - accuracy: 0.8422 - val_loss: 0.3902 - val_accuracy: 0.8446 - 490s/epoch - 6s/step\n",
            "Epoch 23/300\n",
            "87/87 - 492s - loss: 0.3150 - accuracy: 0.8683 - val_loss: 0.4000 - val_accuracy: 0.8462 - 492s/epoch - 6s/step\n",
            "Epoch 24/300\n",
            "87/87 - 490s - loss: 0.3201 - accuracy: 0.8660 - val_loss: 0.4343 - val_accuracy: 0.8558 - 490s/epoch - 6s/step\n",
            "Epoch 25/300\n",
            "87/87 - 490s - loss: 0.3129 - accuracy: 0.8691 - val_loss: 0.4215 - val_accuracy: 0.8558 - 490s/epoch - 6s/step\n",
            "Epoch 26/300\n",
            "87/87 - 491s - loss: 0.3353 - accuracy: 0.8637 - val_loss: 0.4258 - val_accuracy: 0.8462 - 491s/epoch - 6s/step\n",
            "Epoch 27/300\n",
            "87/87 - 493s - loss: 0.2884 - accuracy: 0.8798 - val_loss: 0.4224 - val_accuracy: 0.8446 - 493s/epoch - 6s/step\n",
            "Epoch 28/300\n",
            "87/87 - 494s - loss: 0.2851 - accuracy: 0.8806 - val_loss: 0.4477 - val_accuracy: 0.8429 - 494s/epoch - 6s/step\n",
            "Epoch 29/300\n",
            "87/87 - 494s - loss: 0.2698 - accuracy: 0.8882 - val_loss: 0.4369 - val_accuracy: 0.8397 - 494s/epoch - 6s/step\n",
            "Epoch 30/300\n",
            "87/87 - 494s - loss: 0.2653 - accuracy: 0.8947 - val_loss: 0.4625 - val_accuracy: 0.8381 - 494s/epoch - 6s/step\n",
            "Epoch 31/300\n",
            "87/87 - 493s - loss: 0.2537 - accuracy: 0.8982 - val_loss: 0.4982 - val_accuracy: 0.8317 - 493s/epoch - 6s/step\n",
            "Epoch 32/300\n",
            "87/87 - 495s - loss: 0.2454 - accuracy: 0.8984 - val_loss: 0.4742 - val_accuracy: 0.8285 - 495s/epoch - 6s/step\n",
            "Epoch 33/300\n",
            "87/87 - 496s - loss: 0.2226 - accuracy: 0.9078 - val_loss: 0.5101 - val_accuracy: 0.8221 - 496s/epoch - 6s/step\n",
            "Epoch 34/300\n",
            "87/87 - 498s - loss: 0.2161 - accuracy: 0.9195 - val_loss: 0.4810 - val_accuracy: 0.8301 - 498s/epoch - 6s/step\n",
            "Epoch 35/300\n",
            "87/87 - 497s - loss: 0.1979 - accuracy: 0.9199 - val_loss: 0.6152 - val_accuracy: 0.8077 - 497s/epoch - 6s/step\n",
            "Epoch 36/300\n",
            "87/87 - 500s - loss: 0.1831 - accuracy: 0.9275 - val_loss: 0.6072 - val_accuracy: 0.8189 - 500s/epoch - 6s/step\n",
            "Epoch 37/300\n",
            "87/87 - 499s - loss: 0.2083 - accuracy: 0.9212 - val_loss: 0.6412 - val_accuracy: 0.8253 - 499s/epoch - 6s/step\n",
            "Epoch 38/300\n",
            "87/87 - 499s - loss: 0.1515 - accuracy: 0.9404 - val_loss: 0.6523 - val_accuracy: 0.8221 - 499s/epoch - 6s/step\n",
            "Epoch 39/300\n",
            "87/87 - 498s - loss: 0.1543 - accuracy: 0.9448 - val_loss: 0.6787 - val_accuracy: 0.8381 - 498s/epoch - 6s/step\n",
            "Epoch 40/300\n",
            "87/87 - 499s - loss: 0.1148 - accuracy: 0.9565 - val_loss: 0.8351 - val_accuracy: 0.8285 - 499s/epoch - 6s/step\n"
          ]
        }
      ],
      "source": [
        "#run the model\n",
        "\n",
        "history = cnn.fit(cnn_train_images, \n",
        "                    cnn_train_labels,\n",
        "                    verbose = 2,\n",
        "                    batch_size = 60, \n",
        "                    epochs = 300,\n",
        "                    validation_data = (cnn_test_images, cnn_test_labels),\n",
        "                    callbacks = [early_stopping])"
      ]
    },
    {
      "cell_type": "markdown",
      "metadata": {
        "id": "7ZO7knhU7CxW"
      },
      "source": [
        "##**# Visualizing our Loss/Accuracy Curves, Classification Report, Confusion Matrices.**"
      ]
    },
    {
      "cell_type": "code",
      "execution_count": null,
      "metadata": {
        "id": "t5V1hQ68hWm8"
      },
      "outputs": [],
      "source": [
        "def visualize_training_results(results, model, test_images, test_labels):\n",
        "    history = results.history\n",
        "    plt.figure()\n",
        "    plt.plot(history['val_loss'])\n",
        "    plt.plot(history['loss'])\n",
        "    plt.legend(['val_loss', 'loss'])\n",
        "    plt.title('Loss')\n",
        "    plt.xlabel('Epochs')\n",
        "    plt.ylabel('Loss')\n",
        "    plt.show()\n",
        "    \n",
        "    plt.figure()\n",
        "    plt.plot(history['val_accuracy'])\n",
        "    plt.plot(history['accuracy'])\n",
        "    plt.legend(['val_accuracy', 'accuracy'])\n",
        "    plt.title('Accuracy')\n",
        "    plt.xlabel('Epochs')\n",
        "    plt.ylabel('Accuracy')\n",
        "    plt.show()\n",
        "       \n",
        "    y_hat_test = model.predict(test_images)\n",
        "    thresh = 0.5\n",
        "    y_pred = (y_hat_test > thresh).astype(np.int)\n",
        "    y_true = test_labels.astype(np.int)\n",
        "    cm = confusion_matrix(y_true, y_pred)\n",
        "    sns.heatmap(cm, annot = True, cmap = 'Blues', fmt = '0.5g')\n",
        "    plt.xlabel('Predictions')\n",
        "    plt.ylabel('Actuals')\n",
        "    plt.title('Confusion Matrix')\n",
        "    plt.show()\n",
        "\n",
        "    print(classification_report(y_true, y_pred))\n",
        "    print('\\n')\n",
        "    print('\\n')\n",
        "    print('Evaluating the Performance')\n",
        "    print('\\n')\n",
        "    \n",
        "    test_score = model.evaluate(test_images, test_labels, verbose = 0)\n",
        "    print(f'Test Loss: {test_score[0]}')\n",
        "    print(f'Test Accuracy: {test_score[1]}')"
      ]
    },
    {
      "cell_type": "code",
      "execution_count": null,
      "metadata": {
        "colab": {
          "base_uri": "https://localhost:8080/",
          "height": 1000
        },
        "id": "g7ralrva7avv",
        "outputId": "f5a2d4e1-ba62-427e-9955-0541b2252ee4"
      },
      "outputs": [
        {
          "output_type": "display_data",
          "data": {
            "image/png": "[encoded data removed]",
            "text/plain": [
              "<Figure size 432x288 with 1 Axes>"
            ]
          },
          "metadata": {
            "needs_background": "light"
          }
        },
        {
          "output_type": "display_data",
          "data": {
            "image/png": "[encoded data removed]",
            "text/plain": [
              "<Figure size 432x288 with 1 Axes>"
            ]
          },
          "metadata": {
            "needs_background": "light"
          }
        },
        {
          "output_type": "display_data",
          "data": {
            "image/png": "[encoded data removed]",
            "text/plain": [
              "<Figure size 432x288 with 2 Axes>"
            ]
          },
          "metadata": {
            "needs_background": "light"
          }
        },
        {
          "output_type": "stream",
          "name": "stdout",
          "text": [
            "              precision    recall  f1-score   support\n",
            "\n",
            "           0       0.93      0.73      0.82       252\n",
            "           1       0.84      0.96      0.90       372\n",
            "\n",
            "    accuracy                           0.87       624\n",
            "   macro avg       0.88      0.84      0.86       624\n",
            "weighted avg       0.87      0.87      0.86       624\n",
            "\n",
            "\n",
            "\n",
            "\n",
            "\n",
            "Evaluating the Performance\n",
            "\n",
            "\n",
            "Test Loss: 0.3723932206630707\n",
            "Test Accuracy: 0.8669871687889099\n"
          ]
        }
      ],
      "source": [
        "visualize_training_results(history, cnn, cnn_test_images, cnn_test_labels)"
      ]
    },
    {
      "cell_type": "markdown",
      "source": [
        "#**Results.**"
      ],
      "metadata": {
        "id": "d1lbS_qq3mqa"
      }
    },
    {
      "cell_type": "code",
      "source": [
        "- Model was able to achieve 87% accuracy.\n",
        "  - After 25 epochs, model shows starts under performing.\n",
        "- Overall decent model with only 69% false positives."
      ],
      "metadata": {
        "id": "h23zuJW63phG"
      },
      "execution_count": null,
      "outputs": []
    }
  ],
  "metadata": {
    "colab": {
      "background_execution": "on",
      "collapsed_sections": [],
      "machine_shape": "hm",
      "name": "Breast Cancer CNN .3",
      "provenance": [],
      "include_colab_link": true
    },
    "kernelspec": {
      "display_name": "Python 3",
      "name": "python3"
    },
    "language_info": {
      "name": "python"
    }
  },
  "nbformat": 4,
  "nbformat_minor": 0
}