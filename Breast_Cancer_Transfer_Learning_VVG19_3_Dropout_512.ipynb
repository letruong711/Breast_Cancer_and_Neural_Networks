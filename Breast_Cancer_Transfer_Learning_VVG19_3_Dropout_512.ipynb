{
  "nbformat": 4,
  "nbformat_minor": 0,
  "metadata": {
    "colab": {
      "name": "Breast Cancer Transfer Learning VVG19 .3 Dropout 512",
      "provenance": [],
      "machine_shape": "hm",
      "collapsed_sections": [],
      "background_execution": "on",
      "include_colab_link": true
    },
    "kernelspec": {
      "name": "python3",
      "display_name": "Python 3"
    },
    "language_info": {
      "name": "python"
    }
  },
  "cells": [
    {
      "cell_type": "markdown",
      "metadata": {
        "id": "view-in-github",
        "colab_type": "text"
      },
      "source": [
        "<a href=\"https://colab.research.google.com/github/letruong711/Breast_Cancer_and_Neural_Networks/blob/main/Breast_Cancer_Transfer_Learning_VVG19_3_Dropout_512.ipynb\" target=\"_parent\"><img src=\"https://colab.research.google.com/assets/colab-badge.svg\" alt=\"Open In Colab\"/></a>"
      ]
    },
    {
      "cell_type": "markdown",
      "source": [
        "##**Mounting Google Drive.**"
      ],
      "metadata": {
        "id": "5x4fWUwz9Euo"
      }
    },
    {
      "cell_type": "code",
      "source": [
        "#mount google drive\n",
        "from google.colab import drive\n",
        "drive.mount('/content/drive')"
      ],
      "metadata": {
        "colab": {
          "base_uri": "https://localhost:8080/"
        },
        "id": "5AwwhHGQ3lGI",
        "outputId": "8878b83f-932b-460f-fb2d-1577c57a9129"
      },
      "execution_count": null,
      "outputs": [
        {
          "output_type": "stream",
          "name": "stdout",
          "text": [
            "Mounted at /content/drive\n"
          ]
        }
      ]
    },
    {
      "cell_type": "markdown",
      "source": [
        "#**Importing Libraries.**#"
      ],
      "metadata": {
        "id": "G666LaWxbSzu"
      }
    },
    {
      "cell_type": "code",
      "source": [
        "import pandas as pd\n",
        "import numpy as np\n",
        "import matplotlib.pyplot as plt\n",
        "%matplotlib inline\n",
        "import seaborn as sns\n",
        "\n",
        "import os\n",
        "import glob\n",
        "import random\n",
        "\n",
        "import keras\n",
        "\n",
        "from keras.models import Sequential\n",
        "from keras.layers import Dense\n",
        "from keras.datasets import mnist\n",
        "\n",
        "from keras.models import load_model\n",
        "from keras.wrappers.scikit_learn import KerasClassifier\n",
        "\n",
        "from sklearn.preprocessing import LabelEncoder\n",
        "from sklearn.model_selection import train_test_split\n",
        "from sklearn.model_selection import GridSearchCV\n",
        "from sklearn.metrics import classification_report\n",
        "from sklearn.metrics import confusion_matrix\n",
        "from sklearn.metrics import plot_confusion_matrix, classification_report\n",
        "\n",
        "import tensorflow as tf\n",
        "from tensorflow.keras import layers\n",
        "from tensorflow.keras import Sequential\n",
        "from tensorflow.keras.applications.vgg19 import VGG19, preprocess_input\n",
        "from tensorflow.keras.layers import Dense, Conv2D, Flatten, Dropout, MaxPool2D\n",
        "from tensorflow.keras.preprocessing.image import ImageDataGenerator, array_to_img, img_to_array, load_img\n",
        "from tensorflow.keras.callbacks import EarlyStopping\n",
        "from tensorflow.keras import optimizers\n",
        "import tensorflow_datasets as tfds\n",
        "\n",
        "import datetime"
      ],
      "metadata": {
        "id": "1DuMmBpz2-hl"
      },
      "execution_count": null,
      "outputs": []
    },
    {
      "cell_type": "markdown",
      "source": [
        "#**Importing Data/Establishing Pathways.**"
      ],
      "metadata": {
        "id": "8sAo6Yrybepr"
      }
    },
    {
      "cell_type": "code",
      "source": [
        "#setting up bridge between collab and drive\n",
        "!pip install -U -q PyDrive\n",
        "from pydrive.auth import GoogleAuth\n",
        "from pydrive.drive import GoogleDrive\n",
        "from google.colab import auth\n",
        "from oauth2client.client import GoogleCredentials"
      ],
      "metadata": {
        "id": "NP_eH-TifYHY"
      },
      "execution_count": null,
      "outputs": []
    },
    {
      "cell_type": "code",
      "source": [
        "auth.authenticate_user()\n",
        "gauth = GoogleAuth()\n",
        "gauth.credentials = GoogleCredentials.get_application_default()\n",
        "drive = GoogleDrive(gauth)"
      ],
      "metadata": {
        "id": "CrsQghh0oEHd"
      },
      "execution_count": null,
      "outputs": []
    },
    {
      "cell_type": "code",
      "source": [
        "fid = drive.ListFile({'q': \"title='updated_kaggle_breast.zip'\"}).GetList()[0]['id']\n",
        "f = drive.CreateFile({'id':fid})\n",
        "f.GetContentFile('updated_kaggle_breast.zip')"
      ],
      "metadata": {
        "id": "lu_F4k2ipBGp"
      },
      "execution_count": null,
      "outputs": []
    },
    {
      "cell_type": "code",
      "source": [
        "#unzip massive file.\n",
        "!unzip updated_kaggle_breast.zip"
      ],
      "metadata": {
        "id": "ZxC7SKtNPtzR"
      },
      "execution_count": null,
      "outputs": []
    },
    {
      "cell_type": "code",
      "source": [
        "PATH = '/content/updated_kaggle_breast/IDC_regular_ps50_idx5'"
      ],
      "metadata": {
        "id": "HiViKDCz81mW"
      },
      "execution_count": null,
      "outputs": []
    },
    {
      "cell_type": "code",
      "source": [
        "os.listdir(PATH)"
      ],
      "metadata": {
        "id": "dTv0XoxcOZ_c"
      },
      "execution_count": null,
      "outputs": []
    },
    {
      "cell_type": "code",
      "source": [
        "train_dir = os.path.join(PATH, 'Train')\n",
        "test_dir = os.path.join(PATH, 'Test')"
      ],
      "metadata": {
        "id": "N4B0v8UbFt5Y"
      },
      "execution_count": null,
      "outputs": []
    },
    {
      "cell_type": "markdown",
      "source": [
        "##Preprocessing.##"
      ],
      "metadata": {
        "id": "pn7IsdOjb5YH"
      }
    },
    {
      "cell_type": "code",
      "source": [
        "IMG_HEIGHT = 224\n",
        "IMG_WIDTH = 224\n",
        "batch_size = 624"
      ],
      "metadata": {
        "id": "zdhFSyeZbncj"
      },
      "execution_count": null,
      "outputs": []
    },
    {
      "cell_type": "code",
      "source": [
        "image_gen = ImageDataGenerator(rescale = 1./255)"
      ],
      "metadata": {
        "id": "sbN8zqGW9JSN"
      },
      "execution_count": null,
      "outputs": []
    },
    {
      "cell_type": "code",
      "source": [
        "train_data_gen = image_gen.flow_from_directory(\n",
        "    directory=train_dir,\n",
        "    shuffle=True,\n",
        "    target_size=(IMG_HEIGHT, IMG_WIDTH),\n",
        "    batch_size= 5216,\n",
        "    class_mode='binary')"
      ],
      "metadata": {
        "id": "flZ8avQVcsgh",
        "colab": {
          "base_uri": "https://localhost:8080/"
        },
        "outputId": "61ef0234-3b51-41a8-df0a-bc10cfe0719a"
      },
      "execution_count": null,
      "outputs": [
        {
          "output_type": "stream",
          "name": "stdout",
          "text": [
            "Found 20467 images belonging to 2 classes.\n"
          ]
        }
      ]
    },
    {
      "cell_type": "code",
      "source": [
        "test_data_gen = image_gen.flow_from_directory(\n",
        "    directory = test_dir,\n",
        "    target_size = (IMG_HEIGHT, IMG_WIDTH),\n",
        "    batch_size = batch_size,\n",
        "    class_mode='binary')"
      ],
      "metadata": {
        "id": "zJ1_46BUc80D",
        "colab": {
          "base_uri": "https://localhost:8080/"
        },
        "outputId": "2bd55944-3c39-4243-8264-a40153983461"
      },
      "execution_count": null,
      "outputs": [
        {
          "output_type": "stream",
          "name": "stdout",
          "text": [
            "Found 6600 images belonging to 2 classes.\n"
          ]
        }
      ]
    },
    {
      "cell_type": "code",
      "source": [
        "cnn_train_images, cnn_train_labels = next(train_data_gen)\n",
        "cnn_test_images, cnn_test_labels = next(test_data_gen)"
      ],
      "metadata": {
        "id": "YzDxS2j5dC3_"
      },
      "execution_count": null,
      "outputs": []
    },
    {
      "cell_type": "code",
      "source": [
        "#making sure dimensions are correct for CNN\n",
        "display(np.shape(cnn_train_images))\n",
        "display(np.shape(cnn_train_labels))\n",
        "display(type(cnn_train_images))\n",
        "display(type(cnn_train_labels))\n",
        "\n",
        "display(np.shape(cnn_test_images))\n",
        "display(np.shape(cnn_test_labels))\n",
        "display(type(cnn_test_images))\n",
        "display(type(cnn_test_labels))"
      ],
      "metadata": {
        "id": "-lxjuDUZdFGn",
        "colab": {
          "base_uri": "https://localhost:8080/",
          "height": 156
        },
        "outputId": "41ff7ca6-b90b-4397-dd4e-cab714c7b57c"
      },
      "execution_count": null,
      "outputs": [
        {
          "output_type": "display_data",
          "data": {
            "text/plain": [
              "(5216, 224, 224, 3)"
            ]
          },
          "metadata": {}
        },
        {
          "output_type": "display_data",
          "data": {
            "text/plain": [
              "(5216,)"
            ]
          },
          "metadata": {}
        },
        {
          "output_type": "display_data",
          "data": {
            "text/plain": [
              "numpy.ndarray"
            ]
          },
          "metadata": {}
        },
        {
          "output_type": "display_data",
          "data": {
            "text/plain": [
              "numpy.ndarray"
            ]
          },
          "metadata": {}
        },
        {
          "output_type": "display_data",
          "data": {
            "text/plain": [
              "(624, 224, 224, 3)"
            ]
          },
          "metadata": {}
        },
        {
          "output_type": "display_data",
          "data": {
            "text/plain": [
              "(624,)"
            ]
          },
          "metadata": {}
        },
        {
          "output_type": "display_data",
          "data": {
            "text/plain": [
              "numpy.ndarray"
            ]
          },
          "metadata": {}
        },
        {
          "output_type": "display_data",
          "data": {
            "text/plain": [
              "numpy.ndarray"
            ]
          },
          "metadata": {}
        }
      ]
    },
    {
      "cell_type": "markdown",
      "source": [
        "#**Setting up VGG19.**"
      ],
      "metadata": {
        "id": "vkx5kEddexs-"
      }
    },
    {
      "cell_type": "code",
      "source": [
        "pretrained = VGG19(weights = 'imagenet', \n",
        "                   include_top = False, \n",
        "                   input_shape = (224, 224, 3),\n",
        "                   pooling = 'avg')"
      ],
      "metadata": {
        "id": "d7Rhbpd5e0fO",
        "colab": {
          "base_uri": "https://localhost:8080/"
        },
        "outputId": "c78506db-0089-4b98-ca42-d22e4f98f800"
      },
      "execution_count": null,
      "outputs": [
        {
          "output_type": "stream",
          "name": "stdout",
          "text": [
            "Downloading data from https://storage.googleapis.com/tensorflow/keras-applications/vgg19/vgg19_weights_tf_dim_ordering_tf_kernels_notop.h5\n",
            "80142336/80134624 [==============================] - 1s 0us/step\n",
            "80150528/80134624 [==============================] - 1s 0us/step\n"
          ]
        }
      ]
    },
    {
      "cell_type": "code",
      "source": [
        "pretrained.summary()"
      ],
      "metadata": {
        "id": "9CRC-uQSgvYF",
        "colab": {
          "base_uri": "https://localhost:8080/"
        },
        "outputId": "b593dbf6-016c-4655-8e2c-bdfd09f6aa69"
      },
      "execution_count": null,
      "outputs": [
        {
          "output_type": "stream",
          "name": "stdout",
          "text": [
            "Model: \"vgg19\"\n",
            "_________________________________________________________________\n",
            " Layer (type)                Output Shape              Param #   \n",
            "=================================================================\n",
            " input_1 (InputLayer)        [(None, 224, 224, 3)]     0         \n",
            "                                                                 \n",
            " block1_conv1 (Conv2D)       (None, 224, 224, 64)      1792      \n",
            "                                                                 \n",
            " block1_conv2 (Conv2D)       (None, 224, 224, 64)      36928     \n",
            "                                                                 \n",
            " block1_pool (MaxPooling2D)  (None, 112, 112, 64)      0         \n",
            "                                                                 \n",
            " block2_conv1 (Conv2D)       (None, 112, 112, 128)     73856     \n",
            "                                                                 \n",
            " block2_conv2 (Conv2D)       (None, 112, 112, 128)     147584    \n",
            "                                                                 \n",
            " block2_pool (MaxPooling2D)  (None, 56, 56, 128)       0         \n",
            "                                                                 \n",
            " block3_conv1 (Conv2D)       (None, 56, 56, 256)       295168    \n",
            "                                                                 \n",
            " block3_conv2 (Conv2D)       (None, 56, 56, 256)       590080    \n",
            "                                                                 \n",
            " block3_conv3 (Conv2D)       (None, 56, 56, 256)       590080    \n",
            "                                                                 \n",
            " block3_conv4 (Conv2D)       (None, 56, 56, 256)       590080    \n",
            "                                                                 \n",
            " block3_pool (MaxPooling2D)  (None, 28, 28, 256)       0         \n",
            "                                                                 \n",
            " block4_conv1 (Conv2D)       (None, 28, 28, 512)       1180160   \n",
            "                                                                 \n",
            " block4_conv2 (Conv2D)       (None, 28, 28, 512)       2359808   \n",
            "                                                                 \n",
            " block4_conv3 (Conv2D)       (None, 28, 28, 512)       2359808   \n",
            "                                                                 \n",
            " block4_conv4 (Conv2D)       (None, 28, 28, 512)       2359808   \n",
            "                                                                 \n",
            " block4_pool (MaxPooling2D)  (None, 14, 14, 512)       0         \n",
            "                                                                 \n",
            " block5_conv1 (Conv2D)       (None, 14, 14, 512)       2359808   \n",
            "                                                                 \n",
            " block5_conv2 (Conv2D)       (None, 14, 14, 512)       2359808   \n",
            "                                                                 \n",
            " block5_conv3 (Conv2D)       (None, 14, 14, 512)       2359808   \n",
            "                                                                 \n",
            " block5_conv4 (Conv2D)       (None, 14, 14, 512)       2359808   \n",
            "                                                                 \n",
            " block5_pool (MaxPooling2D)  (None, 7, 7, 512)         0         \n",
            "                                                                 \n",
            " global_average_pooling2d (G  (None, 512)              0         \n",
            " lobalAveragePooling2D)                                          \n",
            "                                                                 \n",
            "=================================================================\n",
            "Total params: 20,024,384\n",
            "Trainable params: 20,024,384\n",
            "Non-trainable params: 0\n",
            "_________________________________________________________________\n"
          ]
        }
      ]
    },
    {
      "cell_type": "code",
      "source": [
        "#defining CNN\n",
        "pretrained_cnn = Sequential()\n",
        "pretrained_cnn.add(pretrained)\n",
        "\n",
        "# freezing layers so they don't get retrained with your new data\n",
        "for layer in pretrained_cnn.layers:\n",
        "    layer.trainable = False "
      ],
      "metadata": {
        "id": "douPBuYFg1cl"
      },
      "execution_count": null,
      "outputs": []
    },
    {
      "cell_type": "code",
      "source": [
        "# Adding our own dense layers to customize model to our goals\n",
        "\n",
        "pretrained_cnn.add(layers.Flatten())\n",
        "\n",
        "pretrained_cnn.add(layers.Dropout(rate = 0.3))\n",
        "pretrained_cnn.add(layers.Dense(192, activation = 'tanh'))\n",
        "\n",
        "pretrained_cnn.add(layers.Dropout(rate = 0.3))\n",
        "pretrained_cnn.add(layers.Dense(256, activation = 'tanh'))\n",
        "\n",
        "pretrained_cnn.add(layers.Dropout(rate = 0.3))\n",
        "pretrained_cnn.add(layers.Dense(512, activation = 'tanh'))\n",
        "\n",
        "pretrained_cnn.add(layers.Dense(1, activation = 'sigmoid'))"
      ],
      "metadata": {
        "id": "C91Q5q8A66YV"
      },
      "execution_count": null,
      "outputs": []
    },
    {
      "cell_type": "code",
      "source": [
        "# Verifying that the weights are \"frozen\" because we don't want to change the earlier model to help detect patterns.\n",
        "\n",
        "for layer in pretrained_cnn.layers:\n",
        "    print(layer.name, layer.trainable)"
      ],
      "metadata": {
        "id": "DVU2pkNGg5nV",
        "colab": {
          "base_uri": "https://localhost:8080/"
        },
        "outputId": "01d03cfd-6e60-438b-fec9-2c33e6c88033"
      },
      "execution_count": null,
      "outputs": [
        {
          "output_type": "stream",
          "name": "stdout",
          "text": [
            "vgg19 False\n",
            "flatten_1 True\n",
            "dropout_3 True\n",
            "dense_4 True\n",
            "dropout_4 True\n",
            "dense_5 True\n",
            "dropout_5 True\n",
            "dense_6 True\n",
            "dense_7 True\n"
          ]
        }
      ]
    },
    {
      "cell_type": "code",
      "source": [
        "# This will stop training when the monitored metric has stopped improving\n",
        "# This might be more useful when fine tuning a model\n",
        "\n",
        "early_stopping = EarlyStopping(patience = 30,               \n",
        "                               monitor = 'val_binary_accuracy', \n",
        "                               restore_best_weights = True) \n",
        "\n",
        "# Patience = After 30 epochs with no improvement, training will be stopped\n",
        "# Monitor = Binary Accuracy is the quantity being monitored for the patience level\n",
        "# Restoring model weights from the epoch with the best value of the monitored quantity"
      ],
      "metadata": {
        "id": "XC4O3Iq7kZii"
      },
      "execution_count": null,
      "outputs": []
    },
    {
      "cell_type": "code",
      "source": [
        "#compile the model\n",
        "pretrained_cnn.compile(loss = 'binary_crossentropy', \n",
        "            optimizer = 'RMSprop', \n",
        "            metrics = ['binary_accuracy'])"
      ],
      "metadata": {
        "id": "ntfolV0khDzd"
      },
      "execution_count": null,
      "outputs": []
    },
    {
      "cell_type": "code",
      "source": [
        "#reviewing the model\n",
        "pretrained_cnn.summary()"
      ],
      "metadata": {
        "id": "t5V1hQ68hWm8",
        "colab": {
          "base_uri": "https://localhost:8080/"
        },
        "outputId": "25066605-d3ee-46ef-86b8-f1bb4ce13293"
      },
      "execution_count": null,
      "outputs": [
        {
          "output_type": "stream",
          "name": "stdout",
          "text": [
            "Model: \"sequential_1\"\n",
            "_________________________________________________________________\n",
            " Layer (type)                Output Shape              Param #   \n",
            "=================================================================\n",
            " vgg19 (Functional)          (None, 512)               20024384  \n",
            "                                                                 \n",
            " flatten_1 (Flatten)         (None, 512)               0         \n",
            "                                                                 \n",
            " dropout_3 (Dropout)         (None, 512)               0         \n",
            "                                                                 \n",
            " dense_4 (Dense)             (None, 192)               98496     \n",
            "                                                                 \n",
            " dropout_4 (Dropout)         (None, 192)               0         \n",
            "                                                                 \n",
            " dense_5 (Dense)             (None, 256)               49408     \n",
            "                                                                 \n",
            " dropout_5 (Dropout)         (None, 256)               0         \n",
            "                                                                 \n",
            " dense_6 (Dense)             (None, 512)               131584    \n",
            "                                                                 \n",
            " dense_7 (Dense)             (None, 1)                 513       \n",
            "                                                                 \n",
            "=================================================================\n",
            "Total params: 20,304,385\n",
            "Trainable params: 280,001\n",
            "Non-trainable params: 20,024,384\n",
            "_________________________________________________________________\n"
          ]
        }
      ]
    },
    {
      "cell_type": "markdown",
      "source": [
        "##**VGG19 CNN.**"
      ],
      "metadata": {
        "id": "MY1n_H2-7TBY"
      }
    },
    {
      "cell_type": "code",
      "source": [
        "results_3 = pretrained_cnn.fit(cnn_train_images, \n",
        "                    cnn_train_labels,\n",
        "                    batch_size = 60, \n",
        "                    epochs = 300,\n",
        "                    validation_data = (cnn_test_images, cnn_test_labels),\n",
        "                    callbacks = [early_stopping])"
      ],
      "metadata": {
        "id": "2sljiNzx7PBz",
        "colab": {
          "base_uri": "https://localhost:8080/"
        },
        "outputId": "438f01ef-0bf0-4f40-9189-e4c21c1244dd"
      },
      "execution_count": null,
      "outputs": [
        {
          "output_type": "stream",
          "name": "stdout",
          "text": [
            "Epoch 1/300\n",
            "87/87 [==============================] - 913s 10s/step - loss: 0.7452 - binary_accuracy: 0.5767 - val_loss: 0.6139 - val_binary_accuracy: 0.6587\n",
            "Epoch 2/300\n",
            "87/87 [==============================] - 910s 10s/step - loss: 0.6356 - binary_accuracy: 0.6505 - val_loss: 0.5418 - val_binary_accuracy: 0.7788\n",
            "Epoch 3/300\n",
            "87/87 [==============================] - 911s 10s/step - loss: 0.6172 - binary_accuracy: 0.6664 - val_loss: 0.4488 - val_binary_accuracy: 0.8141\n",
            "Epoch 4/300\n",
            "87/87 [==============================] - 910s 10s/step - loss: 0.5847 - binary_accuracy: 0.6969 - val_loss: 0.5043 - val_binary_accuracy: 0.7580\n",
            "Epoch 5/300\n",
            "87/87 [==============================] - 910s 10s/step - loss: 0.5737 - binary_accuracy: 0.7078 - val_loss: 0.4229 - val_binary_accuracy: 0.8269\n",
            "Epoch 6/300\n",
            "87/87 [==============================] - 912s 10s/step - loss: 0.5655 - binary_accuracy: 0.7159 - val_loss: 0.4373 - val_binary_accuracy: 0.8333\n",
            "Epoch 7/300\n",
            "87/87 [==============================] - 910s 10s/step - loss: 0.5529 - binary_accuracy: 0.7243 - val_loss: 0.4429 - val_binary_accuracy: 0.8381\n",
            "Epoch 8/300\n",
            "87/87 [==============================] - 910s 10s/step - loss: 0.5543 - binary_accuracy: 0.7174 - val_loss: 0.3985 - val_binary_accuracy: 0.8478\n",
            "Epoch 9/300\n",
            "87/87 [==============================] - 910s 10s/step - loss: 0.5398 - binary_accuracy: 0.7412 - val_loss: 0.4271 - val_binary_accuracy: 0.8365\n",
            "Epoch 10/300\n",
            "87/87 [==============================] - 910s 10s/step - loss: 0.5390 - binary_accuracy: 0.7343 - val_loss: 0.4022 - val_binary_accuracy: 0.8478\n",
            "Epoch 11/300\n",
            "87/87 [==============================] - 910s 10s/step - loss: 0.5452 - binary_accuracy: 0.7291 - val_loss: 0.3995 - val_binary_accuracy: 0.8397\n",
            "Epoch 12/300\n",
            "87/87 [==============================] - 911s 10s/step - loss: 0.5386 - binary_accuracy: 0.7393 - val_loss: 0.3962 - val_binary_accuracy: 0.8381\n",
            "Epoch 13/300\n",
            "87/87 [==============================] - 911s 10s/step - loss: 0.5376 - binary_accuracy: 0.7379 - val_loss: 0.3927 - val_binary_accuracy: 0.8429\n",
            "Epoch 14/300\n",
            "87/87 [==============================] - 911s 10s/step - loss: 0.5374 - binary_accuracy: 0.7391 - val_loss: 0.3911 - val_binary_accuracy: 0.8349\n",
            "Epoch 15/300\n",
            "87/87 [==============================] - 911s 10s/step - loss: 0.5239 - binary_accuracy: 0.7475 - val_loss: 0.3844 - val_binary_accuracy: 0.8397\n",
            "Epoch 16/300\n",
            "87/87 [==============================] - 911s 10s/step - loss: 0.5237 - binary_accuracy: 0.7494 - val_loss: 0.3863 - val_binary_accuracy: 0.8381\n",
            "Epoch 17/300\n",
            "87/87 [==============================] - 912s 10s/step - loss: 0.5280 - binary_accuracy: 0.7441 - val_loss: 0.4121 - val_binary_accuracy: 0.8397\n",
            "Epoch 18/300\n",
            "87/87 [==============================] - 912s 10s/step - loss: 0.5297 - binary_accuracy: 0.7437 - val_loss: 0.3906 - val_binary_accuracy: 0.8365\n",
            "Epoch 19/300\n",
            "87/87 [==============================] - 911s 10s/step - loss: 0.5177 - binary_accuracy: 0.7508 - val_loss: 0.3809 - val_binary_accuracy: 0.8381\n",
            "Epoch 20/300\n",
            "87/87 [==============================] - 913s 11s/step - loss: 0.5210 - binary_accuracy: 0.7373 - val_loss: 0.3719 - val_binary_accuracy: 0.8446\n",
            "Epoch 21/300\n",
            "87/87 [==============================] - 915s 11s/step - loss: 0.5156 - binary_accuracy: 0.7506 - val_loss: 0.4352 - val_binary_accuracy: 0.8173\n",
            "Epoch 22/300\n",
            "87/87 [==============================] - 916s 11s/step - loss: 0.5126 - binary_accuracy: 0.7488 - val_loss: 0.4299 - val_binary_accuracy: 0.8093\n",
            "Epoch 23/300\n",
            "87/87 [==============================] - 916s 11s/step - loss: 0.5159 - binary_accuracy: 0.7421 - val_loss: 0.3932 - val_binary_accuracy: 0.8285\n",
            "Epoch 24/300\n",
            "87/87 [==============================] - 915s 11s/step - loss: 0.5030 - binary_accuracy: 0.7611 - val_loss: 0.3752 - val_binary_accuracy: 0.8446\n",
            "Epoch 25/300\n",
            "87/87 [==============================] - 915s 11s/step - loss: 0.5112 - binary_accuracy: 0.7471 - val_loss: 0.3914 - val_binary_accuracy: 0.8413\n",
            "Epoch 26/300\n",
            "87/87 [==============================] - 915s 11s/step - loss: 0.5069 - binary_accuracy: 0.7525 - val_loss: 0.4051 - val_binary_accuracy: 0.8269\n",
            "Epoch 27/300\n",
            "87/87 [==============================] - 916s 11s/step - loss: 0.5078 - binary_accuracy: 0.7515 - val_loss: 0.3865 - val_binary_accuracy: 0.8446\n",
            "Epoch 28/300\n",
            "87/87 [==============================] - 915s 11s/step - loss: 0.5136 - binary_accuracy: 0.7529 - val_loss: 0.3670 - val_binary_accuracy: 0.8446\n",
            "Epoch 29/300\n",
            "87/87 [==============================] - 915s 11s/step - loss: 0.4936 - binary_accuracy: 0.7634 - val_loss: 0.3796 - val_binary_accuracy: 0.8365\n",
            "Epoch 30/300\n",
            "87/87 [==============================] - 917s 11s/step - loss: 0.5057 - binary_accuracy: 0.7604 - val_loss: 0.3712 - val_binary_accuracy: 0.8381\n",
            "Epoch 31/300\n",
            "87/87 [==============================] - 915s 11s/step - loss: 0.5042 - binary_accuracy: 0.7582 - val_loss: 0.3728 - val_binary_accuracy: 0.8446\n",
            "Epoch 32/300\n",
            "87/87 [==============================] - 915s 11s/step - loss: 0.4941 - binary_accuracy: 0.7684 - val_loss: 0.3876 - val_binary_accuracy: 0.8317\n",
            "Epoch 33/300\n",
            "87/87 [==============================] - 916s 11s/step - loss: 0.4971 - binary_accuracy: 0.7646 - val_loss: 0.3754 - val_binary_accuracy: 0.8510\n",
            "Epoch 34/300\n",
            "87/87 [==============================] - 916s 11s/step - loss: 0.5011 - binary_accuracy: 0.7600 - val_loss: 0.4320 - val_binary_accuracy: 0.8109\n",
            "Epoch 35/300\n",
            "87/87 [==============================] - 915s 11s/step - loss: 0.5032 - binary_accuracy: 0.7571 - val_loss: 0.4178 - val_binary_accuracy: 0.8285\n",
            "Epoch 36/300\n",
            "87/87 [==============================] - 915s 11s/step - loss: 0.4973 - binary_accuracy: 0.7609 - val_loss: 0.3782 - val_binary_accuracy: 0.8381\n",
            "Epoch 37/300\n",
            "87/87 [==============================] - 915s 11s/step - loss: 0.4979 - binary_accuracy: 0.7617 - val_loss: 0.3928 - val_binary_accuracy: 0.8526\n",
            "Epoch 38/300\n",
            "87/87 [==============================] - 917s 11s/step - loss: 0.4963 - binary_accuracy: 0.7644 - val_loss: 0.3958 - val_binary_accuracy: 0.8558\n",
            "Epoch 39/300\n",
            "87/87 [==============================] - 915s 11s/step - loss: 0.5009 - binary_accuracy: 0.7567 - val_loss: 0.3823 - val_binary_accuracy: 0.8397\n",
            "Epoch 40/300\n",
            "87/87 [==============================] - 915s 11s/step - loss: 0.4924 - binary_accuracy: 0.7709 - val_loss: 0.3651 - val_binary_accuracy: 0.8510\n",
            "Epoch 41/300\n",
            "87/87 [==============================] - 915s 11s/step - loss: 0.4893 - binary_accuracy: 0.7720 - val_loss: 0.3843 - val_binary_accuracy: 0.8494\n",
            "Epoch 42/300\n",
            "87/87 [==============================] - 916s 11s/step - loss: 0.4868 - binary_accuracy: 0.7690 - val_loss: 0.3728 - val_binary_accuracy: 0.8542\n",
            "Epoch 43/300\n",
            "87/87 [==============================] - 914s 11s/step - loss: 0.4901 - binary_accuracy: 0.7657 - val_loss: 0.3918 - val_binary_accuracy: 0.8462\n",
            "Epoch 44/300\n",
            "87/87 [==============================] - 915s 11s/step - loss: 0.4858 - binary_accuracy: 0.7720 - val_loss: 0.3753 - val_binary_accuracy: 0.8510\n",
            "Epoch 45/300\n",
            "87/87 [==============================] - 913s 11s/step - loss: 0.4931 - binary_accuracy: 0.7596 - val_loss: 0.3601 - val_binary_accuracy: 0.8478\n",
            "Epoch 46/300\n",
            "87/87 [==============================] - 913s 11s/step - loss: 0.4887 - binary_accuracy: 0.7630 - val_loss: 0.3912 - val_binary_accuracy: 0.8285\n",
            "Epoch 47/300\n",
            "87/87 [==============================] - 913s 11s/step - loss: 0.4862 - binary_accuracy: 0.7678 - val_loss: 0.3950 - val_binary_accuracy: 0.8301\n",
            "Epoch 48/300\n",
            "87/87 [==============================] - 915s 11s/step - loss: 0.4886 - binary_accuracy: 0.7728 - val_loss: 0.3722 - val_binary_accuracy: 0.8606\n",
            "Epoch 49/300\n",
            "87/87 [==============================] - 916s 11s/step - loss: 0.4831 - binary_accuracy: 0.7747 - val_loss: 0.3889 - val_binary_accuracy: 0.8317\n",
            "Epoch 50/300\n",
            "87/87 [==============================] - 915s 11s/step - loss: 0.4936 - binary_accuracy: 0.7694 - val_loss: 0.3936 - val_binary_accuracy: 0.8446\n",
            "Epoch 51/300\n",
            "87/87 [==============================] - 916s 11s/step - loss: 0.4865 - binary_accuracy: 0.7684 - val_loss: 0.3719 - val_binary_accuracy: 0.8590\n",
            "Epoch 52/300\n",
            "87/87 [==============================] - 917s 11s/step - loss: 0.4849 - binary_accuracy: 0.7732 - val_loss: 0.3803 - val_binary_accuracy: 0.8285\n",
            "Epoch 53/300\n",
            "87/87 [==============================] - 915s 11s/step - loss: 0.4804 - binary_accuracy: 0.7717 - val_loss: 0.3764 - val_binary_accuracy: 0.8429\n",
            "Epoch 54/300\n",
            "87/87 [==============================] - 918s 11s/step - loss: 0.4859 - binary_accuracy: 0.7743 - val_loss: 0.3706 - val_binary_accuracy: 0.8413\n",
            "Epoch 55/300\n",
            "87/87 [==============================] - 917s 11s/step - loss: 0.4825 - binary_accuracy: 0.7694 - val_loss: 0.3695 - val_binary_accuracy: 0.8510\n",
            "Epoch 56/300\n",
            "87/87 [==============================] - 918s 11s/step - loss: 0.4822 - binary_accuracy: 0.7765 - val_loss: 0.3777 - val_binary_accuracy: 0.8462\n",
            "Epoch 57/300\n",
            "87/87 [==============================] - 918s 11s/step - loss: 0.4825 - binary_accuracy: 0.7736 - val_loss: 0.3719 - val_binary_accuracy: 0.8494\n",
            "Epoch 58/300\n",
            "87/87 [==============================] - 917s 11s/step - loss: 0.4892 - binary_accuracy: 0.7703 - val_loss: 0.3825 - val_binary_accuracy: 0.8349\n",
            "Epoch 59/300\n",
            "87/87 [==============================] - 917s 11s/step - loss: 0.4730 - binary_accuracy: 0.7780 - val_loss: 0.3737 - val_binary_accuracy: 0.8462\n",
            "Epoch 60/300\n",
            "87/87 [==============================] - 918s 11s/step - loss: 0.4860 - binary_accuracy: 0.7694 - val_loss: 0.3805 - val_binary_accuracy: 0.8381\n",
            "Epoch 61/300\n",
            "87/87 [==============================] - 917s 11s/step - loss: 0.4811 - binary_accuracy: 0.7719 - val_loss: 0.3758 - val_binary_accuracy: 0.8413\n",
            "Epoch 62/300\n",
            "87/87 [==============================] - 916s 11s/step - loss: 0.4780 - binary_accuracy: 0.7749 - val_loss: 0.4060 - val_binary_accuracy: 0.8397\n",
            "Epoch 63/300\n",
            "87/87 [==============================] - 913s 11s/step - loss: 0.4787 - binary_accuracy: 0.7784 - val_loss: 0.3987 - val_binary_accuracy: 0.8301\n",
            "Epoch 64/300\n",
            "87/87 [==============================] - 913s 11s/step - loss: 0.4779 - binary_accuracy: 0.7745 - val_loss: 0.3778 - val_binary_accuracy: 0.8381\n",
            "Epoch 65/300\n",
            "87/87 [==============================] - 916s 11s/step - loss: 0.4798 - binary_accuracy: 0.7745 - val_loss: 0.3767 - val_binary_accuracy: 0.8397\n",
            "Epoch 66/300\n",
            "87/87 [==============================] - 915s 11s/step - loss: 0.4771 - binary_accuracy: 0.7753 - val_loss: 0.3916 - val_binary_accuracy: 0.8446\n",
            "Epoch 67/300\n",
            "87/87 [==============================] - 914s 11s/step - loss: 0.4720 - binary_accuracy: 0.7797 - val_loss: 0.3767 - val_binary_accuracy: 0.8349\n",
            "Epoch 68/300\n",
            "87/87 [==============================] - 916s 11s/step - loss: 0.4726 - binary_accuracy: 0.7784 - val_loss: 0.3912 - val_binary_accuracy: 0.8446\n",
            "Epoch 69/300\n",
            "87/87 [==============================] - 915s 11s/step - loss: 0.4750 - binary_accuracy: 0.7765 - val_loss: 0.3771 - val_binary_accuracy: 0.8478\n",
            "Epoch 70/300\n",
            "87/87 [==============================] - 913s 11s/step - loss: 0.4638 - binary_accuracy: 0.7832 - val_loss: 0.3795 - val_binary_accuracy: 0.8413\n",
            "Epoch 71/300\n",
            "87/87 [==============================] - 913s 11s/step - loss: 0.4674 - binary_accuracy: 0.7801 - val_loss: 0.3806 - val_binary_accuracy: 0.8285\n",
            "Epoch 72/300\n",
            "87/87 [==============================] - 912s 10s/step - loss: 0.4692 - binary_accuracy: 0.7841 - val_loss: 0.3733 - val_binary_accuracy: 0.8446\n",
            "Epoch 73/300\n",
            "87/87 [==============================] - 915s 11s/step - loss: 0.4704 - binary_accuracy: 0.7778 - val_loss: 0.3789 - val_binary_accuracy: 0.8446\n",
            "Epoch 74/300\n",
            "87/87 [==============================] - 916s 11s/step - loss: 0.4666 - binary_accuracy: 0.7822 - val_loss: 0.3757 - val_binary_accuracy: 0.8574\n",
            "Epoch 75/300\n",
            "87/87 [==============================] - 915s 11s/step - loss: 0.4713 - binary_accuracy: 0.7730 - val_loss: 0.3813 - val_binary_accuracy: 0.8397\n",
            "Epoch 76/300\n",
            "87/87 [==============================] - 912s 10s/step - loss: 0.4675 - binary_accuracy: 0.7809 - val_loss: 0.3841 - val_binary_accuracy: 0.8413\n",
            "Epoch 77/300\n",
            "87/87 [==============================] - 915s 11s/step - loss: 0.4688 - binary_accuracy: 0.7791 - val_loss: 0.3859 - val_binary_accuracy: 0.8429\n",
            "Epoch 78/300\n",
            "87/87 [==============================] - 915s 11s/step - loss: 0.4683 - binary_accuracy: 0.7793 - val_loss: 0.3882 - val_binary_accuracy: 0.8205\n"
          ]
        }
      ]
    },
    {
      "cell_type": "code",
      "source": [
        "def visualize_training_results(results, model, test_images, test_labels):\n",
        "    history = results.history\n",
        "    plt.figure()\n",
        "    plt.plot(history['val_loss'])\n",
        "    plt.plot(history['loss'])\n",
        "    plt.legend(['val_loss', 'loss'])\n",
        "    plt.title('Loss')\n",
        "    plt.xlabel('Epochs')\n",
        "    plt.ylabel('Loss')\n",
        "    plt.show()\n",
        "    \n",
        "    plt.figure()\n",
        "    plt.plot(history['val_binary_accuracy'])\n",
        "    plt.plot(history['binary_accuracy'])\n",
        "    plt.legend(['val_binary_accuracy', 'val_accuracy'])\n",
        "    plt.title('Accuracy')\n",
        "    plt.xlabel('Epochs')\n",
        "    plt.ylabel('Accuracy')\n",
        "    plt.show()\n",
        "       \n",
        "    y_hat_test = model.predict(test_images)\n",
        "    thresh = 0.5\n",
        "    y_pred = (y_hat_test > thresh).astype(np.int)\n",
        "    y_true = test_labels.astype(np.int)\n",
        "    cm = confusion_matrix(y_true, y_pred)\n",
        "    sns.heatmap(cm, annot = True, cmap = 'Blues', fmt = '0.5g')\n",
        "    plt.xlabel('Predictions')\n",
        "    plt.ylabel('Actuals')\n",
        "    plt.title('Confusion Matrix')\n",
        "    plt.show()\n",
        "\n",
        "    print(classification_report(y_true, y_pred))\n",
        "    print('\\n')\n",
        "    print('\\n')\n",
        "    print('Evaluating the Performance')\n",
        "    print('\\n')\n",
        "    \n",
        "    test_score = model.evaluate(test_images, test_labels, verbose = 0)\n",
        "    print(f'Test Loss: {test_score[0]}')\n",
        "    print(f'Test Accuracy: {test_score[1]}')"
      ],
      "metadata": {
        "id": "90J6-PGopB52"
      },
      "execution_count": null,
      "outputs": []
    },
    {
      "cell_type": "code",
      "source": [
        "visualize_training_results(results_3, pretrained_cnn, cnn_test_images, cnn_test_labels)"
      ],
      "metadata": {
        "id": "YKS84TjjpLb_",
        "colab": {
          "base_uri": "https://localhost:8080/",
          "height": 1000
        },
        "outputId": "56eb357b-5986-4e2c-8254-e468bd2e1cf1"
      },
      "execution_count": null,
      "outputs": [
        {
          "output_type": "display_data",
          "data": {
            "image/png": "[encoded data removed]",
            "text/plain": [
              "<Figure size 432x288 with 1 Axes>"
            ]
          },
          "metadata": {
            "needs_background": "light"
          }
        },
        {
          "output_type": "display_data",
          "data": {
            "image/png": "[encoded data removed]",
            "text/plain": [
              "<Figure size 432x288 with 1 Axes>"
            ]
          },
          "metadata": {
            "needs_background": "light"
          }
        },
        {
          "output_type": "display_data",
          "data": {
            "image/png": "[encoded data removed]",
            "text/plain": [
              "<Figure size 432x288 with 2 Axes>"
            ]
          },
          "metadata": {
            "needs_background": "light"
          }
        },
        {
          "output_type": "stream",
          "name": "stdout",
          "text": [
            "              precision    recall  f1-score   support\n",
            "\n",
            "           0       0.82      0.85      0.84       262\n",
            "           1       0.89      0.86      0.88       362\n",
            "\n",
            "    accuracy                           0.86       624\n",
            "   macro avg       0.86      0.86      0.86       624\n",
            "weighted avg       0.86      0.86      0.86       624\n",
            "\n",
            "\n",
            "\n",
            "\n",
            "\n",
            "Evaluating the Performance\n",
            "\n",
            "\n",
            "Test Loss: 0.37216469645500183\n",
            "Test Accuracy: 0.8605769276618958\n"
          ]
        }
      ]
    }
  ]
}